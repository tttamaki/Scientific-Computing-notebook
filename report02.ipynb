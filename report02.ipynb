{
 "cells": [
  {
   "cell_type": "markdown",
   "metadata": {
    "id": "u1v4Hg6dIQi4"
   },
   "source": [
    "# 第2回レポート課題\n",
    "\n",
    "\n",
    "提出物：\n",
    "\n",
    "- report02.ipynb（このノートブック）\n",
    "  - ノートブックに直接コードを書いて実行できる\n",
    "  - コードを実行した結果の状態で保存して提出すること\n",
    "- レポート\n",
    "  - 形式：A4縦，PDFファイル1つ（複数ファイルやwordファイルは受け付けない）\n",
    "  - 1ページ目冒頭に，氏名・学生番号・所属学科/分野/コース・授業名・課題名・出題授業日を明記すること\n",
    "  - 各課題（「課題2-01」「課題2-02」など）を区別できるようにすること\n",
    "  - 含める内容\n",
    "    - コードの抜粋とその説明\n",
    "    - 実行結果（テキスト出力，プロット等）とその説明\n",
    "    - 各課題で指定された内容とその説明\n",
    "  - レポート作成上の注意事項:\n",
    "    - **レポートにはできるだけ丁寧な説明を含めること**\n",
    "\n"
   ]
  },
  {
   "cell_type": "markdown",
   "metadata": {
    "id": "9ebKzOPhIGob"
   },
   "source": [
    "\n",
    "## 課題2-01\n",
    "\n",
    "\n",
    "下記のベクトルと行列をnp.arrayとして定義し表示せよ．\n",
    "このとき，各要素をfor文を使って一要素ずつ表示する方式と，一括で表示する方式の両方を行うコードを，以下に示すテンプレートを使って作成せよ．\n",
    "\n",
    "$$\n",
    "\\begin{align*}\n",
    "\\mathbf{x} = \n",
    "\\begin{bmatrix}\n",
    "1 \\\\\n",
    "2 \\\\\n",
    "3\n",
    "\\end{bmatrix}, \n",
    "\\mathbf{y} = \n",
    "\\begin{bmatrix}\n",
    "-1 \\\\\n",
    "2 \\\\\n",
    "-1\n",
    "\\end{bmatrix}, \n",
    "\\mathbf{M} = \n",
    "\\begin{bmatrix}\n",
    "3 & 1 & 2 \\\\\n",
    "1 & 2 & -1 \\\\\n",
    "2 & -1 & 4 \n",
    "\\end{bmatrix}\n",
    "\\end{align*}\n",
    "$$\n",
    "\n",
    "- レポートに含める内容: 実行例\n",
    "\n"
   ]
  },
  {
   "cell_type": "code",
   "execution_count": null,
   "metadata": {
    "id": "NpjRYeVQGwbT"
   },
   "outputs": [],
   "source": [
    "import numpy as np\n",
    "\n",
    "# ここに各変数に値を代入するコードを作成する\n",
    "\n",
    "x = np.zeros(3)  # これはダミーです\n",
    "y = np.zeros(3)  # これはダミーです\n",
    "M = np.zeros((3, 3))  # これはダミーです"
   ]
  },
  {
   "cell_type": "code",
   "execution_count": null,
   "metadata": {
    "id": "fzFoKwNGHHvU"
   },
   "outputs": [],
   "source": [
    "# 例: xの表示\n",
    "print(\"x:\")\n",
    "for i in range(len(x)):\n",
    "    print(\"x({}) = {}\".format(i, x[i]))\n",
    "    # print(\"x(\", i, \") = \", x[i])  # こちらでもよい"
   ]
  },
  {
   "cell_type": "code",
   "execution_count": null,
   "metadata": {
    "id": "IlnV3S6nHVXs"
   },
   "outputs": [],
   "source": [
    "# yの表示\n",
    "print(\"y:\")\n",
    "for i in range(len(y)):\n",
    "    # \n",
    "    # ここにyの要素を表示するコードを作成する\n",
    "    # \n",
    "    print('hello')  # これはダミーです"
   ]
  },
  {
   "cell_type": "code",
   "execution_count": null,
   "metadata": {
    "id": "zDYUOI5AHw3v"
   },
   "outputs": [],
   "source": [
    "# Mの表示\n",
    "print(\"M:\")\n",
    "for i in range(M.shape[0]):\n",
    "    for j in range(M.shape[1]):\n",
    "        # \n",
    "        # ここにMの要素を表示するコードを作成する\n",
    "        # \n",
    "        print('hello')  # これはダミーです"
   ]
  },
  {
   "cell_type": "code",
   "execution_count": null,
   "metadata": {
    "id": "JzMagi-4HFWM"
   },
   "outputs": [],
   "source": [
    "# 例：xをそのまま表示\n",
    "print(x)"
   ]
  },
  {
   "cell_type": "code",
   "execution_count": null,
   "metadata": {
    "id": "0HrqvjbOIA18"
   },
   "outputs": [],
   "source": [
    "# ここにyとMをそのまま表示するコードを作成する\n",
    "\n",
    "\n"
   ]
  },
  {
   "cell_type": "markdown",
   "metadata": {
    "id": "dULkqXWomJ8h"
   },
   "source": [
    "## 課題2-02\n",
    "\n",
    "numpyでは行列演算が簡単に実行できる演算子や関数が用意されているが，これらを使わずにfor文を使って以下の関数を自作せよ（それぞれの演算がどう定義されるべきかは資料の前半の線形代数の復習を参照のこと）\n",
    "\n",
    "- ベクトル同士の足し算を行う関数`sum_vec(v, u)`\n",
    "- 行列とベクトルの掛け算を行う関数`product_mat_vec(M, v)`\n",
    "- ベクトルとスカラーの掛け算を行う関数`product_scalar_vec(a, v)`\n",
    "\n",
    "作成した関数を使って以下の演算を課題2-01で定義した各変数に実行し，結果を表示するコードを作成せよ．\n",
    "\n",
    "\n",
    "- $\\mathbf{x} + \\mathbf{y}$\n",
    "- $10 \\mathbf{y}$\n",
    "- $\\mathbf{M} \\mathbf{x}$\n",
    "\n",
    "\n",
    "正しい結果が得られているか手計算で確認すること．\n",
    "サイズのチェックなどエラーチェックはなくてもよい．\n",
    "\n",
    "- レポートに含める内容: 実行例とそれに対応する手計算の結果"
   ]
  },
  {
   "cell_type": "code",
   "execution_count": null,
   "metadata": {
    "id": "gI_dk08Y9dmv"
   },
   "outputs": [],
   "source": [
    "import numpy as np"
   ]
  },
  {
   "cell_type": "code",
   "execution_count": null,
   "metadata": {
    "id": "1OeQJZbjnALA"
   },
   "outputs": [],
   "source": [
    "def sum_vec(v, u):\n",
    "    \"\"\"ベクトル同士の和．\n",
    "\n",
    "    Args:\n",
    "        v (ndarray): n次元ベクトルv\n",
    "        u (ndarray): n次元ベクトルu\n",
    "\n",
    "    Returns:\n",
    "        (ndarray): n次元ベクトルv+u\n",
    "    \"\"\"\n",
    "\n",
    "    n = len(v)\n",
    "    ret = np.zeros(n)  # 返り値\n",
    "\n",
    "    for i in range(n):\n",
    "        #\n",
    "        # ここに要素ごとの足し算を定義\n",
    "        #\n",
    "\n",
    "        v[i] = 0  # これはダミーです\n",
    "        u[i] = 0  # これはダミーです\n",
    "        v[i] = 0  # これはダミーです\n",
    "        u[i] = 0  # これはダミーです\n",
    "\n",
    "    return ret\n",
    "\n",
    "\n",
    "def product_mat_vec(M, v):\n",
    "    \"\"\"行列とベクトルの掛け算\n",
    "\n",
    "    Args:\n",
    "        M (ndarray): mxn行列M\n",
    "        v (ndarray): n次元ベクトルv\n",
    "\n",
    "    Returns:\n",
    "        (ndarray): m次元ベクトルMv\n",
    "    \"\"\"\n",
    "\n",
    "    m = M.shape[0]  # rows\n",
    "    n = M.shape[1]  # cols\n",
    "    ret = np.zeros(m)\n",
    "\n",
    "    #\n",
    "    # 以下にコードを作成\n",
    "    #\n",
    "    for i in range(m):\n",
    "        # ヒント：ret(i)を0で初期化（もしくは定義の時点で0にしておく）\n",
    "\n",
    "        for j in range(n):\n",
    "        # ヒント：Mのi,j要素とvのj要素を掛けてret(i)に足しこむ\n",
    "\n",
    "            M[i, j] = 0  # これはダミーです\n",
    "            M[i, j] = 0  # これはダミーです\n",
    "            M[i, j] = 0  # これはダミーです\n",
    "            M[i, j] = 0  # これはダミーです\n",
    "\n",
    "    return ret\n",
    "\n",
    "\n",
    "def product_scalar_vec(a, v):\n",
    "    \"\"\"ベクトルとスカラーの掛け算\n",
    "\n",
    "    Args:\n",
    "        a (float): スカラーa\n",
    "        v (ndarray): n次元ベクトルv\n",
    "\n",
    "    Returns:\n",
    "        (ndarray): n次元ベクトルav\n",
    "    \"\"\"\n",
    "    #\n",
    "    # 以下にコードを作成\n",
    "    #\n",
    "    ret = 0  # これはダミーです\n",
    "\n",
    "    return ret"
   ]
  },
  {
   "cell_type": "code",
   "execution_count": null,
   "metadata": {
    "id": "Vw-2pVoinAEh"
   },
   "outputs": [],
   "source": [
    "# ここに演算を実行し結果を表示するコードを作成する\n",
    "\n",
    "\n",
    "# 例\n",
    "print(\"x + y: \", sum_vec(x, y))"
   ]
  },
  {
   "cell_type": "markdown",
   "metadata": {
    "id": "jHdABRavqbrs"
   },
   "source": [
    "## 課題2-03\n",
    "\n",
    "以下の演算を[report02-numpy.ipynb](report02-numpy.ipynb)のexample07〜example10で紹介してあるnumpyの行列演算を使って結果を表示するコードを作成せよ．\n",
    "ここでも，各変数は課題2-01で定義されたものと同じとする．\n",
    "ただし，$\\mathbf{I}$は$3 \\times 3$の単位行列とする．      \n",
    "\n",
    "1. $\\mathbf{x} - \\mathbf{y}$\n",
    "2. $\\mathbf{x} + 2 \\mathbf{y}$\n",
    "3. $\\mathbf{M} \\mathbf{x} + \\mathbf{y}$\n",
    "4. $\\mathbf{x}^\\top \\mathbf{M} \\mathbf{y}$\n",
    "5. $\\mathbf{M} + \\mathbf{I}$\n",
    "6. $\\mathbf{x}^\\top (\\mathbf{M} + \\mathbf{I}) \\mathbf{y}$\n",
    "\n",
    "ただし`dot()`は使わずに演算子`@`を使うこと．\n",
    "\n",
    "- ヒント1: example10\n",
    "- ヒント2: $\\mathbf{x}^\\top \\mathbf{M} \\mathbf{y}$や$\\mathbf{x}^\\top (\\mathbf{M} + \\mathbf{I}) \\mathbf{y}$のような形は，$\\mathbf{x}^\\top (\\mathbf{M} \\mathbf{y})$や$\\mathbf{x}^\\top \\{(\\mathbf{M} + \\mathbf{I}) \\mathbf{y}\\}$と見るとわかりやすい．$(\\mathbf{M} \\mathbf{y})$や$\\{(\\mathbf{M} + \\mathbf{I}) \\mathbf{y}\\}$の部分は行列とベクトルの掛け算なのでベクトルになる．残った計算はベクトル同士の内積だと解釈できる．\n",
    "\n",
    "また，各演算の計算の定義を理解して，手計算で同じ答えが出ることを確認せよ（演算の方法が資料だけでわからない場合は，線形代数のテキストなどを参照）．\n",
    "\n",
    "\n",
    "- レポートに含める内容: 実行例とそれに対応する手計算の結果\n",
    "\n"
   ]
  },
  {
   "cell_type": "code",
   "execution_count": null,
   "metadata": {
    "id": "sL8GVNz8v0lj"
   },
   "outputs": [],
   "source": [
    "print(\"x - y = \")\n",
    "# ここで演算を実行し表示する\n",
    "\n",
    "\n",
    "\n",
    "print(\"x + 2 * y = \")\n",
    "# ここで演算を実行し表示する\n",
    "\n",
    "\n",
    "  \n",
    "print(\"M * x + y = \")\n",
    "# ここで演算を実行し表示する\n",
    "\n",
    "\n",
    "\n",
    "print(\"x^T * M * y = \")\n",
    "# ここで演算を実行し表示する\n",
    "\n",
    "\n",
    "\n",
    "    \n",
    "print(\"M + I = \")\n",
    "# ここで演算を実行し表示する\n",
    "\n",
    "\n",
    "\n",
    "\n",
    "print(\"x^T * (M + I) * y = \")\n",
    "# ここで演算を実行し表示する\n",
    "\n",
    "\n"
   ]
  },
  {
   "cell_type": "markdown",
   "metadata": {
    "id": "ockKG1T5rx64"
   },
   "source": [
    "## 課題2-04\n",
    "\n",
    "ベクトルのノルムを求める関数`norm_vec(v)`を自作せよ（numpyのnormを求める関数は使わずに）．\n",
    "\n",
    "さらにそれを使って，二つのベクトルの偏角$\\theta$に対して$\\cos\\theta$を求める関数`cos_vec(v, u)`を作成せよ．\n",
    "\n",
    "また課題2-01で定義した$\\mathbf{x}$と$\\mathbf{y}$に対して，$\\mathbf{x}$と$\\mathbf{y}$の$\\cos\\theta$，$\\mathbf{x}$と$\\mathbf{x} + \\mathbf{y}$の$\\cos\\theta$を表示せよ．\n",
    "\n",
    "- レポートに含める内容: 実行例"
   ]
  },
  {
   "cell_type": "code",
   "execution_count": null,
   "metadata": {
    "id": "lk5MJMdlrxtm"
   },
   "outputs": [],
   "source": [
    "def norm_vec(v):\n",
    "    \"\"\"ノルムを計算する関数\n",
    "\n",
    "    Args:\n",
    "        v (ndarray): n次元ベクトルv\n",
    "\n",
    "    Returns:\n",
    "        (float): vのノルム||v||\n",
    "    \"\"\"\n",
    "\n",
    "    #\n",
    "    # 以下にコードを作成\n",
    "    #\n",
    "\n",
    "\n",
    "    v = 0  # これはダミーです\n",
    "\n",
    "    return 0\n",
    "\n",
    "\n",
    "\n",
    "def cos_vec(v, u):\n",
    "    \"\"\"cosを計算する関数\n",
    "\n",
    "    Args:\n",
    "        v (ndarray): n次元ベクトルv\n",
    "        u (ndarray): n次元ベクトルu\n",
    "\n",
    "    Returns:\n",
    "        (float): vとuのなす角θのcos\n",
    "    \"\"\"\n",
    "\n",
    "    #\n",
    "    # 以下にコードを作成\n",
    "    #\n",
    "\n",
    "\n",
    "    v = 0  # これはダミーです\n",
    "\n",
    "    return 0\n",
    "\n"
   ]
  },
  {
   "cell_type": "code",
   "execution_count": null,
   "metadata": {
    "id": "2woJWwvXnqZA"
   },
   "outputs": [],
   "source": [
    "# ここに結果を表示するコードを作成する\n"
   ]
  },
  {
   "cell_type": "markdown",
   "metadata": {
    "id": "nUjviUmutT2s"
   },
   "source": [
    "## 課題2-05\n",
    "\n",
    "\n",
    "ある二次元上の点$(x,y)$を$\\theta$だけ回転した座標$(x',y')$は以下の様に書くことができる:\n",
    "\n",
    "$$\n",
    "\\begin{align*}\n",
    "x' &= x \\cos \\theta  - y \\sin \\theta \\\\\n",
    "y' &= x \\sin \\theta + y \\cos \\theta\n",
    "\\end{align*}\n",
    "$$\n",
    "\n",
    "行列$R$を\n",
    "\n",
    "$$\n",
    "\\mathbf{R} = \n",
    "\\begin{bmatrix}         \n",
    "    \\cos \\theta & - \\sin \\theta \\\\\n",
    "    \\sin \\theta & \\cos \\theta\n",
    "\\end{bmatrix}\n",
    "$$\n",
    "\n",
    "と定義すると回転の変換は以下の様に整理できる:\n",
    "\n",
    "$$\n",
    "\\begin{align*}\n",
    "\\begin{bmatrix}\n",
    "    x' \\\\\n",
    "    y'\n",
    "\\end{bmatrix}\n",
    "=\n",
    "\\mathbf{R} \n",
    "\\begin{bmatrix}\n",
    "    x \\\\\n",
    "    y\n",
    "\\end{bmatrix}\n",
    "\\end{align*}\n",
    "$$\n",
    "\n",
    "いくつかの適当な$\\theta$で行列$\\mathbf{R}$を複数定義し，ベクトル$(x,y) = (1,1)$に対して$(x',y')$を行列とベクトルの掛け算でそれぞれ計算せよ．\n",
    "少なくとも一つは確かめやすい角度で実行し，正しい回転になっているか確かめること．\n",
    "元のベクトル$(x,y)$と得られた$(x',y')$に対して前の課題の`cos_vec`を適用し，正しい$\\cos \\theta$が復元されるか確かめよ．\n",
    "\n",
    "- レポートに含める内容: いくつかの角度に対する実行例\n",
    "\n"
   ]
  },
  {
   "cell_type": "code",
   "execution_count": null,
   "metadata": {},
   "outputs": [],
   "source": [
    "# ヒント：円周率とcos/sinの使い方\n",
    "print(\"pi = \", np.pi)\n",
    "print(\"cos(pi/2) = \", np.cos(np.pi / 2))\n",
    "print(\"sin(pi/4) = \", np.sin(np.pi / 4))\n"
   ]
  },
  {
   "cell_type": "code",
   "execution_count": null,
   "metadata": {
    "id": "I8cQF2vvsPve"
   },
   "outputs": [],
   "source": [
    "# thetaはラジアンで与える\n",
    "theta = np.pi / 4\n",
    "\n",
    "\n",
    "# R, (x, y)を定義し(x', y')を計算する\n",
    "\n",
    "\n",
    "\n",
    "# (x, y)と(x', y')のcosをcos_vecで確認する\n",
    "\n",
    "\n"
   ]
  },
  {
   "cell_type": "markdown",
   "metadata": {
    "id": "a8l2K4AOu0zk"
   },
   "source": [
    "## 課題2-06\n",
    "\n",
    "課題2-01で定義した$\\mathbf{M}$の逆行列を計算し，$\\mathbf{M}^{-1}$と$\\mathbf{M}^{-1} \\mathbf{M}$と$\\mathbf{M} \\mathbf{M}^{-1}$を表示するコードを作成せよ．\n",
    "\n",
    "$\\mathbf{M}^{-1} \\mathbf{M}$と$\\mathbf{M} \\mathbf{M}^{-1}$は本来どのような値になるべきで，結果どうなっているか述べよ．\n",
    "\n",
    "- レポートに含める内容：手計算の計算結果と実行例"
   ]
  },
  {
   "cell_type": "code",
   "execution_count": null,
   "metadata": {
    "id": "nqLOxBVutznx"
   },
   "outputs": [],
   "source": [
    "print(\"M = \")\n",
    "print(M)  # 元のMを表示\n",
    "\n",
    "\n",
    "print(\"M^-1 = \")\n",
    "# ここで演算を実行し表示する\n",
    "\n",
    "\n",
    "print(\"M^-1 * M = \")\n",
    "# ここで演算を実行し表示する\n",
    "\n",
    "\n",
    "print(\"M * M^-1 = \")\n",
    "# ここで演算を実行し表示する\n",
    "\n"
   ]
  },
  {
   "cell_type": "markdown",
   "metadata": {
    "id": "opQmDUEy0Ukt"
   },
   "source": [
    "## 課題2−07\n",
    "\n",
    "適当な線形代数演算を自分で3つ定義し，numpyを使って実装せよ．\n",
    "\n",
    "サイズや演算の種類などどのようなものでも構わないが，定義した計算を明記しレポートに手計算で得た答えと，実行例の両方を示すこと．\n",
    "\n",
    "以下にコード例を示すので参考にすること．\n",
    "様々な演算が組み合わさっているものを評価する（参考：課題2-03）．\n",
    "\n",
    "\n",
    "例) \n",
    "$$\n",
    "\\begin{bmatrix}\n",
    "    1 & 2 & 3 & 4 \\\\\n",
    "    5 & 6 & 7 & 8 \n",
    "\\end{bmatrix}\n",
    "\\begin{bmatrix}\n",
    "    -2 \\\\\n",
    "    -1 \\\\\n",
    "    0 \\\\\n",
    "    1 \n",
    "\\end{bmatrix}\n",
    "=\n",
    "\\begin{bmatrix}\n",
    "    0 \\\\\n",
    "    -8\n",
    "\\end{bmatrix}\n",
    "$$\n",
    "\n",
    "- レポートに含める内容: 手計算での結果と実行例"
   ]
  },
  {
   "cell_type": "code",
   "execution_count": null,
   "metadata": {
    "id": "aFQikkjIvbTi"
   },
   "outputs": [],
   "source": [
    "M = np.array([[1., 2., 3., 4.],\n",
    "              [5., 6., 7., 8.]])\n",
    "v = np.array([-2., -1., 0., 1.])\n",
    "\n",
    "print(\"Example:\")\n",
    "\n",
    "print(\"M = \")\n",
    "print(M)\n",
    "print()\n",
    "\n",
    "print(\"v =\")\n",
    "print(v)\n",
    "print()\n",
    "\n",
    "print(\"M * v =\")\n",
    "print(M @ v)\n",
    "print()\n"
   ]
  },
  {
   "cell_type": "code",
   "execution_count": null,
   "metadata": {
    "id": "yn48rFvT0ySt"
   },
   "outputs": [],
   "source": []
  }
 ],
 "metadata": {
  "colab": {
   "authorship_tag": "ABX9TyOidZtXL2cUPqPXoGxGckGp",
   "collapsed_sections": [],
   "name": "report02.ipynb",
   "provenance": []
  },
  "interpreter": {
   "hash": "910835c6add387b0e7fad0cb68c4fd0097eddf702f241864f5cf24a7fc2117af"
  },
  "kernelspec": {
   "display_name": "Python 3 (ipykernel)",
   "language": "python",
   "name": "python3"
  },
  "language_info": {
   "codemirror_mode": {
    "name": "ipython",
    "version": 3
   },
   "file_extension": ".py",
   "mimetype": "text/x-python",
   "name": "python",
   "nbconvert_exporter": "python",
   "pygments_lexer": "ipython3",
   "version": "3.9.12"
  },
  "toc": {
   "base_numbering": 1,
   "nav_menu": {},
   "number_sections": true,
   "sideBar": true,
   "skip_h1_title": false,
   "title_cell": "Table of Contents",
   "title_sidebar": "Contents",
   "toc_cell": false,
   "toc_position": {},
   "toc_section_display": true,
   "toc_window_display": false
  }
 },
 "nbformat": 4,
 "nbformat_minor": 1
}
