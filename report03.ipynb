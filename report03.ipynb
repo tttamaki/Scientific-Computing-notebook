{
 "cells": [
  {
   "cell_type": "markdown",
   "metadata": {},
   "source": [
    "# 第3回レポート課題\n",
    "\n",
    "\n",
    "提出物：\n",
    "\n",
    "- report03.ipynb（このノートブック）\n",
    "  - ノートブックに直接コードを書いて実行できる\n",
    "  - コードを実行した結果の状態で保存して提出すること\n",
    "- レポート\n",
    "  - 形式：A4縦，PDFファイル1つ（複数ファイルやwordファイルは受け付けない）\n",
    "  - 1ページ目冒頭に，氏名・学生番号・所属学科/分野/コース・授業名・課題名・出題授業日を明記すること\n",
    "  - 各課題（「課題3-01」「課題3-02」など）を区別できるようにすること\n",
    "  - 含める内容\n",
    "    - コードの抜粋とその説明\n",
    "    - 実行結果（テキスト出力，プロット等）とその説明\n",
    "    - 各課題で指定された内容とその説明\n",
    "  - レポート作成上の注意事項:\n",
    "    - **レポートにはできるだけ丁寧な説明を含めること**\n",
    "\n"
   ]
  },
  {
   "cell_type": "markdown",
   "metadata": {},
   "source": [
    "手計算課題用スライドで空欄にしてあった後退代入の答えを必要に応じて参考にすること．\n",
    "\n",
    "以下はnumpyで連立方程式を解くコードである．\n",
    "今回はアルゴリズムの理解が目的なので，課題にはnumpyの`np.linalg.solve`を使わないこと．\n",
    "（ただし，計算結果の検証用に利用するのは構わない．これを使って，自分のコードの計算結果が正しいかどうかを確認すること）"
   ]
  },
  {
   "cell_type": "code",
   "execution_count": 2,
   "metadata": {},
   "outputs": [
    {
     "name": "stdout",
     "output_type": "stream",
     "text": [
      "===\n",
      "check the correct solusion x:  [1. 2. 3. 4.]\n",
      "===\n"
     ]
    }
   ],
   "source": [
    "import numpy as np\n",
    "\n",
    "A = np.array([\n",
    "    [1, 2, 3, 4],\n",
    "    [2, 5, 4, 3],\n",
    "    [3, 4, 6, 5],\n",
    "    [6, 5, 4, 7]]).astype(float)\n",
    "\n",
    "b = np.array([30, 36, 49, 56]).astype(float)\n",
    "\n",
    "print(\"===\")\n",
    "print(\"check the correct solusion x: \", np.linalg.solve(A, b))  # numpyの連立方程式を解く関数\n",
    "print(\"===\")\n"
   ]
  },
  {
   "cell_type": "markdown",
   "metadata": {},
   "source": [
    "注意事項：\n",
    "- 数式による説明は，変数の添字が1から$n$である場合が多い．しかし実装上は，配列のインデックスは`0`から`n-1`までである．\n",
    "数式を実装する際には，数式とコードのインデックスの違いに気をつけること．\n",
    "- 添字の間違いでエラーになったり正しい解が計算できない場合が多い．\n",
    "これを避けるよい方法は，まず数式の時点で0から$n-1$までの添字を使って数式を導出しておくこと，\n",
    "iやjなどのループ変数をループの中で表示して，想定した値になっているかどうかを常に把握することである．"
   ]
  },
  {
   "cell_type": "markdown",
   "metadata": {},
   "source": [
    "## 課題3-01：前進代入\n",
    "\n",
    "\n",
    "以下の`forward_substitute`関数に前進代入のプログラムを作成せよ．ただし，入力引数が下三角行列であることは仮定してよいとする．\n",
    "\n",
    "プログラムを説明し，実行せよ．実行する例として，\n",
    "\n",
    "- 手計算で実施した小課題(1)-1と，\n",
    "- 入力となる下三角行列を自分で適当に定義したもの\n",
    "\n",
    "の2つを示すこと．\n",
    "\n",
    "自分で定義するものは変数を3つ以上とする．また，解が存在しなかったり一意に定まらない連立方程式を作ってしまうとうまくいかない可能性があるので注意すること．\n",
    "\n",
    "- レポートに含めること: 実行例"
   ]
  },
  {
   "cell_type": "code",
   "execution_count": 4,
   "metadata": {},
   "outputs": [
    {
     "name": "stdout",
     "output_type": "stream",
     "text": [
      "A: [0 ... N-1] 0\n",
      "A: [0 ... N-1] 1\n",
      "A: [0 ... N-1] 2\n",
      "A: [0 ... N-1] 3\n",
      "A: [0 ... N-1] 4\n",
      "\n",
      "B: [0 ... N-1] 0\n",
      "B: [0 ... N-1] 1\n",
      "B: [0 ... N-1] 2\n",
      "B: [0 ... N-1] 3\n",
      "B: [0 ... N-1] 4\n",
      "\n",
      "C: [1 ... N] 1\n",
      "C: [1 ... N] 2\n",
      "C: [1 ... N] 3\n",
      "C: [1 ... N] 4\n",
      "C: [1 ... N] 5\n"
     ]
    }
   ],
   "source": [
    "# ヒント：昇順のループにはrangeを以下のように使う．rangeの第1引数は開始値，第2引数は終了値＋1\n",
    "\n",
    "N = 5\n",
    "for i in range(N):  # i = 0, 1, ..., N-1\n",
    "    print(\"A: [0 ... N-1]\", i)\n",
    "\n",
    "print()\n",
    "\n",
    "for i in range(0, N):  # i = 0, 1, ..., N-1\n",
    "    print(\"B: [0 ... N-1]\", i)\n",
    "\n",
    "print()\n",
    "\n",
    "for i in range(1, N + 1):  # i = 1, 2, ..., N\n",
    "    print(\"C: [1 ... N]\", i)"
   ]
  },
  {
   "cell_type": "code",
   "execution_count": 2,
   "metadata": {},
   "outputs": [
    {
     "name": "stdout",
     "output_type": "stream",
     "text": [
      "Solve linear equation A x = b with a lower triangular matrix A\n",
      "Coefficient matrix A:\n",
      "[[ 4  0  0  0]\n",
      " [ 2  3  0  0]\n",
      " [-2  6  1  0]\n",
      " [ 2  1  3  4]]\n",
      "Right-hand-side b:\n",
      "[  8   7 -12   3]\n",
      "Solution x:\n",
      "0\n"
     ]
    }
   ],
   "source": [
    "def forward_substitute(A, b):\n",
    "\n",
    "    n = len(b)\n",
    "    x = np.zeros(n)\n",
    "\n",
    "    #\n",
    "    #  コードを作成して挿入\n",
    "    #\n",
    "\n",
    "    for i in range(n):  # i = 0, 1, ..., n-1\n",
    "\n",
    "        for j in range(i):  # j = 0, 1, ..., i-1\n",
    "\n",
    "            print(\"i={}, j={}\".format(i, j))\n",
    "\n",
    "            x = 0  # これはダミーです\n",
    "\n",
    "        x = 0  # これはダミーです\n",
    "\n",
    "    return x\n",
    "\n",
    "\n",
    "# A = np.array([\n",
    "#     [8, 0, 0, 0],\n",
    "#     [2, 3, 0, 0],\n",
    "#     [6, 5, 4, 0],\n",
    "#     [7, 8, 9, 8]\n",
    "# ]).astype(float)\n",
    "# b = np.array([8, 8, 12, -2]).astype(float)\n",
    "\n",
    "A = np.array([\n",
    "    [4, 0, 0, 0],\n",
    "    [2, 3, 0, 0],\n",
    "    [-2, 6, 1, 0],\n",
    "    [2, 1, 3, 4]\n",
    "]).astype(float)\n",
    "b = np.array([8, 7, -12, 3]).astype(float)\n",
    "\n",
    "print(\"===\")\n",
    "print(\"check the correct solusion x: \", np.linalg.solve(A, b))\n",
    "print(\"===\")\n",
    "\n",
    "\n",
    "print(\"Solve linear equation A x = b with a lower triangular matrix A\")\n",
    "print(\"Coefficient matrix A:\")\n",
    "print(A)\n",
    "print(\"Right-hand-side b:\")\n",
    "print(b)\n",
    "\n",
    "print(\"Solution x:\")\n",
    "print(forward_substitute(A, b))"
   ]
  },
  {
   "cell_type": "markdown",
   "metadata": {},
   "source": [
    "# 課題3-02：後退代入\n",
    "\n",
    "\n",
    "以下の`backward_substitute`関数に後退代入のプログラムを作成せよ．\n",
    "\n",
    "ただし，入力引数が上三角行列であることは仮定してよいとする．\n",
    "\n",
    "課題3-01と同様に，\n",
    "\n",
    "- 手計算で実施した小課題(1)-2と，\n",
    "- 入力となる下三角行列を自分で適当に定義したもの\n",
    "\n",
    "の２つの実行例を示すこと．\n",
    "\n",
    "\n",
    "- レポートに含めること: 実行例"
   ]
  },
  {
   "cell_type": "code",
   "execution_count": 5,
   "metadata": {},
   "outputs": [
    {
     "name": "stdout",
     "output_type": "stream",
     "text": [
      "A: [N-1 ... 0] 4\n",
      "A: [N-1 ... 0] 3\n",
      "A: [N-1 ... 0] 2\n",
      "A: [N-1 ... 0] 1\n",
      "A: [N-1 ... 0] 0\n",
      "\n",
      "B: [N ... 1] 5\n",
      "B: [N ... 1] 4\n",
      "B: [N ... 1] 3\n",
      "B: [N ... 1] 2\n",
      "B: [N ... 1] 1\n"
     ]
    }
   ],
   "source": [
    "# ヒント：降順のループにはrangeを以下のように使う\n",
    "# rangeの第1引数は開始値，第2引数は終了値-1，第3引数は増減値（-1ずつ変更する）\n",
    "\n",
    "N = 5\n",
    "for i in range(N - 1, -1, -1):  # i = N-1, N-2, ..., 1, 0\n",
    "    print(\"A: [N-1 ... 0]\", i)\n",
    "\n",
    "print()\n",
    "\n",
    "for i in range(N, 0, -1):  # i = N, N-2, ..., 1\n",
    "    print(\"B: [N ... 1]\", i)"
   ]
  },
  {
   "cell_type": "code",
   "execution_count": 4,
   "metadata": {},
   "outputs": [
    {
     "name": "stdout",
     "output_type": "stream",
     "text": [
      "Solve linear equation A x = b with an upper triangular matrix A\n",
      "Coefficient matrix A:\n",
      "[[1. 2. 4. 3.]\n",
      " [0. 3. 2. 1.]\n",
      " [0. 0. 4. 3.]\n",
      " [0. 0. 0. 1.]]\n",
      "Right-hand-side b:\n",
      "[ 1.  2.  2. -2.]\n",
      "Solution x:\n",
      "0\n"
     ]
    }
   ],
   "source": [
    "def backward_substitute(A, b):\n",
    "\n",
    "    n = len(b)\n",
    "    x = np.zeros(n)\n",
    "\n",
    "    #\n",
    "    #  コードを作成して挿入\n",
    "    #\n",
    "\n",
    "    # for i = n-1, n-2, ..., 1, 0\n",
    "\n",
    "        # for j = i+1, i+2, ..., n-1\n",
    "\n",
    "        #     x = 0  # これはダミーです\n",
    "\n",
    "        # x = 0  # これはダミーです\n",
    "\n",
    "    return x\n",
    "\n",
    "\n",
    "A = np.array([\n",
    "    [1., 2., 4., 3.],\n",
    "    [0., 3., 2., 1.],\n",
    "    [0., 0., 4., 3.],\n",
    "    [0., 0., 0., 1.],\n",
    "])\n",
    "b = np.array([1., 2., 2., -2.])\n",
    "print(\"===\")\n",
    "print(\"check the correct solusion x: \", np.linalg.solve(A, b))\n",
    "print(\"===\")\n",
    "\n",
    "\n",
    "print(\"Solve linear equation A x = b with an upper triangular matrix A\")\n",
    "print(\"Coefficient matrix A:\")\n",
    "print(A)\n",
    "print(\"Right-hand-side b:\")\n",
    "print(b)\n",
    "\n",
    "print(\"Solution x:\")\n",
    "print(backward_substitute(A, b))"
   ]
  },
  {
   "cell_type": "markdown",
   "metadata": {},
   "source": [
    "## 課題3-03：ガウス消去法\n",
    "\n",
    "以下にガウス消去法によって連立方程式$\\boldsymbol{A} \\boldsymbol{x} = \\boldsymbol{b}$を解く関数`gaussian_elimination`を作成せよ．\n",
    "課題3-02で作成した後退代入の関数を利用すること．\n",
    "\n",
    "- 以下のコードに含まれているものと\n",
    "- 計算小課題(3)の二つの連立方程式\n",
    "\n",
    "で実行例を示せ．\n",
    "\n",
    "\n",
    "- レポートに含めること: 実行例"
   ]
  },
  {
   "cell_type": "code",
   "execution_count": 7,
   "metadata": {},
   "outputs": [
    {
     "name": "stdout",
     "output_type": "stream",
     "text": [
      "Solve linear equation A x = b with a full matrix A\n",
      "Coefficient matrix A:\n",
      "[[ 5.  5. -4.  3. -6.]\n",
      " [ 2. -8. -6.  1. -1.]\n",
      " [ 7. -2.  6.  2.  2.]\n",
      " [-2.  1. -2.  9.  4.]\n",
      " [-4. -3.  5.  3. -7.]]\n",
      "Right-hand-side b:\n",
      "[ 3.  7.  8. -1.  2.]\n",
      "Solution x:\n",
      "[0. 0. 0. 0. 0.]\n"
     ]
    }
   ],
   "source": [
    "def gaussian_elimination(A0, b0):\n",
    "\n",
    "    # 行列の基本変形を適用する行列Aとベクトルbを用意\n",
    "\n",
    "    b = b0\n",
    "    A = A0\n",
    "\n",
    "    n = len(b)\n",
    "    x = np.zeros(n)\n",
    "\n",
    "    # for i = ?, ..., ?\n",
    "    #     for j = ?, ..., ?\n",
    "\n",
    "            # r = ?\n",
    "\n",
    "            # \n",
    "            # Aのi行目をr倍してj行目から引き算する操作を作成\n",
    "            # \n",
    "\n",
    "\n",
    "        # bのi番目をr倍してj番目から引き算する操作を作成\n",
    "\n",
    "\n",
    "\n",
    "    # Aが上三角になったことを確認\n",
    "\n",
    "\n",
    "    # \n",
    "    # 後退代入を実行\n",
    "    # \n",
    "\n",
    "\n",
    "\n",
    "\n",
    "    return x\n",
    "\n",
    "\n",
    "\n",
    "\n",
    "A = np.array([\n",
    "    [5, 5, -4, 3, -6],\n",
    "    [2, -8, -6, 1, -1],\n",
    "    [7, -2, 6, 2, 2],\n",
    "    [-2, 1, -2, 9, 4],\n",
    "    [-4, -3, 5, 3, -7],\n",
    "]).astype(float)\n",
    "b = np.array([3, 7, 8, -1, 2]).astype(float)\n",
    "\n",
    "print(\"===\")\n",
    "print(\"check the correct solusion x: \", np.linalg.solve(A, b))\n",
    "print(\"===\")\n",
    "\n",
    "print(\"Solve linear equation A x = b with a full matrix A\")\n",
    "print(\"Coefficient matrix A:\")\n",
    "print(A)\n",
    "print(\"Right-hand-side b:\")\n",
    "print(b)\n",
    "\n",
    "print(\"Solution x:\")\n",
    "print(gaussian_elimination(A, b))\n"
   ]
  },
  {
   "cell_type": "markdown",
   "metadata": {},
   "source": [
    "# 課題3-04（選択課題）：ガウス消去法のピボット選択\n",
    "\n",
    "\n",
    "\n",
    "この問題は選択であり，必須ではない．\n",
    "\n",
    "講義資料補足1を参考にガウス消去法にピボット選択操作も含めたコードを作成せよ．\n",
    "\n",
    "ピボットの絶対値が$10^{-10}$以下ならば解が存在しないとして終了するようにせよ．\n",
    "\n",
    "\n",
    "- レポートに含めること: 以下の方程式を解いた実行例\n",
    "\n",
    "$$\n",
    "\\begin{align*}\n",
    " 7 x_1         +   x_3 + 2 x_4 + 4 x_5 &= 8 \\\\\n",
    " 3 x_2         + 5 x_3 + 7 x_4 + 2 x_5 &= 0 \\\\\n",
    "   x_1 + 5 x_2 + 8 x_3 +   x_4         &= 2 \\\\\n",
    " 2 x_1 + 7 x_2 +   x_3 +   x_4 + 9 x_5 &= 3 \\\\\n",
    " 4 x_1 + 2 x_2         + 9 x_4 + 4 x_5 &= 3\n",
    "\\end{align*}\n",
    "$$"
   ]
  },
  {
   "cell_type": "code",
   "execution_count": 4,
   "metadata": {},
   "outputs": [
    {
     "name": "stdout",
     "output_type": "stream",
     "text": [
      "solve in main [ 1.63744202  0.90015968 -0.3125998  -0.26971333 -0.73066687]\n"
     ]
    }
   ],
   "source": [
    "A = np.array([\n",
    "    [7, 0, 0, 2, 4],\n",
    "    [3, 0, 5, 7, 2],\n",
    "    [0, 5, 8, 0, 0],\n",
    "    [2, 7, 0, 0, 9],\n",
    "    [4, 2, 0, 9, 4],\n",
    "], dtype=float)\n",
    "\n",
    "b = np.array([8, 0, 2, 3, 3], dtype=float)\n",
    "\n",
    "print(\"===\")\n",
    "print(\"check the correct solusion x: \", np.linalg.solve(A, b))\n",
    "print(\"===\")"
   ]
  },
  {
   "cell_type": "code",
   "execution_count": null,
   "metadata": {},
   "outputs": [],
   "source": [
    "def gaussian_elimination_with_pivot(A0, b0):\n",
    "\n",
    "    # 行列の基本変形を適用する行列Aとベクトルbを用意\n",
    "\n",
    "    b = b0\n",
    "    A = A0\n",
    "\n",
    "    n = len(b)\n",
    "    x = np.zeros(n)\n",
    "\n",
    "    # for i in range(n):\n",
    "    #  for j in range(????, n):\n",
    "\n",
    "        # \n",
    "        # i行目をr倍してj行目から引き算する操作を作成\n",
    "        # \n",
    "\n",
    "\n",
    "\n",
    "    # \n",
    "    # 後退代入を実行\n",
    "    # \n",
    "\n",
    "\n",
    "\n",
    "\n",
    "    return x\n"
   ]
  },
  {
   "cell_type": "code",
   "execution_count": 13,
   "metadata": {},
   "outputs": [
    {
     "name": "stdout",
     "output_type": "stream",
     "text": [
      "Solve linear equation A x = b with a full matrix A\n",
      "Coefficient matrix A:\n",
      "[[7. 0. 0. 2. 4.]\n",
      " [3. 0. 5. 7. 2.]\n",
      " [0. 5. 8. 0. 0.]\n",
      " [2. 7. 0. 0. 9.]\n",
      " [4. 2. 0. 9. 4.]]\n",
      "Right-hand-side b:\n",
      "[8. 0. 2. 3. 3.]\n"
     ]
    },
    {
     "ename": "NameError",
     "evalue": "name 'gaussian_elimination' is not defined",
     "output_type": "error",
     "traceback": [
      "\u001b[0;31m---------------------------------------------------------------------------\u001b[0m",
      "\u001b[0;31mNameError\u001b[0m                                 Traceback (most recent call last)",
      "\u001b[0;32m/var/folders/xz/p6r7mc296qzccq8vhwmt96_c0000gn/T/ipykernel_27907/4186260973.py\u001b[0m in \u001b[0;36m<module>\u001b[0;34m\u001b[0m\n\u001b[1;32m      7\u001b[0m \u001b[0;34m\u001b[0m\u001b[0m\n\u001b[1;32m      8\u001b[0m \u001b[0;31m# ピボットなしの計算結果は正しくない\u001b[0m\u001b[0;34m\u001b[0m\u001b[0;34m\u001b[0m\u001b[0;34m\u001b[0m\u001b[0m\n\u001b[0;32m----> 9\u001b[0;31m \u001b[0mx_solution\u001b[0m\u001b[0;34m,\u001b[0m \u001b[0mA\u001b[0m\u001b[0;34m,\u001b[0m \u001b[0mb\u001b[0m \u001b[0;34m=\u001b[0m \u001b[0mgaussian_elimination\u001b[0m\u001b[0;34m(\u001b[0m\u001b[0mA\u001b[0m\u001b[0;34m,\u001b[0m \u001b[0mb\u001b[0m\u001b[0;34m)\u001b[0m\u001b[0;34m\u001b[0m\u001b[0;34m\u001b[0m\u001b[0m\n\u001b[0m\u001b[1;32m     10\u001b[0m \u001b[0;34m\u001b[0m\u001b[0m\n\u001b[1;32m     11\u001b[0m \u001b[0mprint\u001b[0m\u001b[0;34m(\u001b[0m\u001b[0;34m\"Solution x:\"\u001b[0m\u001b[0;34m)\u001b[0m\u001b[0;34m\u001b[0m\u001b[0;34m\u001b[0m\u001b[0m\n",
      "\u001b[0;31mNameError\u001b[0m: name 'gaussian_elimination' is not defined"
     ]
    }
   ],
   "source": [
    "print(\"Solve linear equation A x = b with a full matrix A\")\n",
    "print(\"Coefficient matrix A:\")\n",
    "print(A)\n",
    "print(\"Right-hand-side b:\")\n",
    "print(b)\n",
    "\n",
    "\n",
    "# ピボットなしの計算結果は正しくない\n",
    "x_solution, A, b = gaussian_elimination(A, b)\n",
    "\n",
    "print(\"Solution x:\")\n",
    "print(x_solution)\n",
    "print(\"Coefficient matrix A:\")\n",
    "print(A)\n",
    "print(\"Right-hand-side b:\")\n",
    "print(b)\n",
    "\n",
    "\n",
    "# ピボットありの計算結果は正しいはず\n",
    "x_solution, A, b = gaussian_elimination_with_pivot(A, b)\n",
    "\n",
    "print(\"Solution x:\")\n",
    "print(x_solution)\n",
    "print(\"Coefficient matrix A:\")\n",
    "print(A)\n",
    "print(\"Right-hand-side b:\")\n",
    "print(b)\n",
    "\n",
    "\n"
   ]
  }
 ],
 "metadata": {
  "interpreter": {
   "hash": "910835c6add387b0e7fad0cb68c4fd0097eddf702f241864f5cf24a7fc2117af"
  },
  "kernelspec": {
   "display_name": "Python 3.7.11 ('cv')",
   "language": "python",
   "name": "python3"
  },
  "language_info": {
   "codemirror_mode": {
    "name": "ipython",
    "version": 3
   },
   "file_extension": ".py",
   "mimetype": "text/x-python",
   "name": "python",
   "nbconvert_exporter": "python",
   "pygments_lexer": "ipython3",
   "version": "3.8.13"
  },
  "orig_nbformat": 4
 },
 "nbformat": 4,
 "nbformat_minor": 2
}
