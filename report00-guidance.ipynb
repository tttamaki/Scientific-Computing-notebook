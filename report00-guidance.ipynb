{
 "cells": [
  {
   "cell_type": "markdown",
   "metadata": {
    "id": "PGN415n7AJnI",
    "toc": "true"
   },
   "source": [
    "<h1>Table of Contents<span class=\"tocSkip\"></span></h1>\n",
    "<div class=\"toc\"><ul class=\"toc-item\"><li><span><a href=\"#Pythonとnotebookの使い方\" data-toc-modified-id=\"Pythonとnotebookの使い方-1\"><span class=\"toc-item-num\">1&nbsp;&nbsp;</span>Pythonとnotebookの使い方</a></span><ul class=\"toc-item\"><li><span><a href=\"#Python\" data-toc-modified-id=\"Python-1.1\"><span class=\"toc-item-num\">1.1&nbsp;&nbsp;</span>Python</a></span></li><li><span><a href=\"#IPythonとは\" data-toc-modified-id=\"IPythonとは-1.2\"><span class=\"toc-item-num\">1.2&nbsp;&nbsp;</span>IPythonとは</a></span></li><li><span><a href=\"#Jupyter-Notebookとは\" data-toc-modified-id=\"Jupyter-Notebookとは-1.3\"><span class=\"toc-item-num\">1.3&nbsp;&nbsp;</span>Jupyter Notebookとは</a></span></li><li><span><a href=\"#Google-Colaboratoryとは\" data-toc-modified-id=\"Google-Colaboratoryとは-1.4\"><span class=\"toc-item-num\">1.4&nbsp;&nbsp;</span>Google Colaboratoryとは</a></span><ul class=\"toc-item\"><li><span><a href=\"#Task\" data-toc-modified-id=\"Task-1.4.1\"><span class=\"toc-item-num\">1.4.1&nbsp;&nbsp;</span>Task</a></span></li></ul></li><li><span><a href=\"#notebookの注意点\" data-toc-modified-id=\"notebookの注意点-1.5\"><span class=\"toc-item-num\">1.5&nbsp;&nbsp;</span>notebookの注意点</a></span><ul class=\"toc-item\"><li><span><a href=\"#値の変更\" data-toc-modified-id=\"値の変更-1.5.1\"><span class=\"toc-item-num\">1.5.1&nbsp;&nbsp;</span>値の変更</a></span></li><li><span><a href=\"#Task\" data-toc-modified-id=\"Task-1.5.2\"><span class=\"toc-item-num\">1.5.2&nbsp;&nbsp;</span>Task</a></span></li><li><span><a href=\"#notebookカーネルの再起動\" data-toc-modified-id=\"notebookカーネルの再起動-1.5.3\"><span class=\"toc-item-num\">1.5.3&nbsp;&nbsp;</span>notebookカーネルの再起動</a></span></li><li><span><a href=\"#Task\" data-toc-modified-id=\"Task-1.5.4\"><span class=\"toc-item-num\">1.5.4&nbsp;&nbsp;</span>Task</a></span></li></ul></li><li><span><a href=\"#Pythonの簡単な使い方\" data-toc-modified-id=\"Pythonの簡単な使い方-1.6\"><span class=\"toc-item-num\">1.6&nbsp;&nbsp;</span>Pythonの簡単な使い方</a></span><ul class=\"toc-item\"><li><span><a href=\"#型，代入，計算，表示\" data-toc-modified-id=\"型，代入，計算，表示-1.6.1\"><span class=\"toc-item-num\">1.6.1&nbsp;&nbsp;</span>型，代入，計算，表示</a></span></li><li><span><a href=\"#Task\" data-toc-modified-id=\"Task-1.6.2\"><span class=\"toc-item-num\">1.6.2&nbsp;&nbsp;</span>Task</a></span></li><li><span><a href=\"#Task\" data-toc-modified-id=\"Task-1.6.3\"><span class=\"toc-item-num\">1.6.3&nbsp;&nbsp;</span>Task</a></span></li></ul></li><li><span><a href=\"#リスト\" data-toc-modified-id=\"リスト-1.7\"><span class=\"toc-item-num\">1.7&nbsp;&nbsp;</span>リスト</a></span><ul class=\"toc-item\"><li><span><a href=\"#Task\" data-toc-modified-id=\"Task-1.7.1\"><span class=\"toc-item-num\">1.7.1&nbsp;&nbsp;</span>Task</a></span></li><li><span><a href=\"#Task\" data-toc-modified-id=\"Task-1.7.2\"><span class=\"toc-item-num\">1.7.2&nbsp;&nbsp;</span>Task</a></span></li><li><span><a href=\"#Task\" data-toc-modified-id=\"Task-1.7.3\"><span class=\"toc-item-num\">1.7.3&nbsp;&nbsp;</span>Task</a></span></li><li><span><a href=\"#2次元配列：リストのリスト\" data-toc-modified-id=\"2次元配列：リストのリスト-1.7.4\"><span class=\"toc-item-num\">1.7.4&nbsp;&nbsp;</span>2次元配列：リストのリスト</a></span></li><li><span><a href=\"#Task\" data-toc-modified-id=\"Task-1.7.5\"><span class=\"toc-item-num\">1.7.5&nbsp;&nbsp;</span>Task</a></span></li><li><span><a href=\"#Task\" data-toc-modified-id=\"Task-1.7.6\"><span class=\"toc-item-num\">1.7.6&nbsp;&nbsp;</span>Task</a></span></li></ul></li><li><span><a href=\"#array\" data-toc-modified-id=\"array-1.8\"><span class=\"toc-item-num\">1.8&nbsp;&nbsp;</span>array</a></span><ul class=\"toc-item\"><li><span><a href=\"#Task\" data-toc-modified-id=\"Task-1.8.1\"><span class=\"toc-item-num\">1.8.1&nbsp;&nbsp;</span>Task</a></span></li><li><span><a href=\"#Task\" data-toc-modified-id=\"Task-1.8.2\"><span class=\"toc-item-num\">1.8.2&nbsp;&nbsp;</span>Task</a></span></li></ul></li><li><span><a href=\"#便利な関数\" data-toc-modified-id=\"便利な関数-1.9\"><span class=\"toc-item-num\">1.9&nbsp;&nbsp;</span>便利な関数</a></span><ul class=\"toc-item\"><li><span><a href=\"#Task\" data-toc-modified-id=\"Task-1.9.1\"><span class=\"toc-item-num\">1.9.1&nbsp;&nbsp;</span>Task</a></span></li></ul></li><li><span><a href=\"#arrayの型変換\" data-toc-modified-id=\"arrayの型変換-1.10\"><span class=\"toc-item-num\">1.10&nbsp;&nbsp;</span>arrayの型変換</a></span><ul class=\"toc-item\"><li><span><a href=\"#Task\" data-toc-modified-id=\"Task-1.10.1\"><span class=\"toc-item-num\">1.10.1&nbsp;&nbsp;</span>Task</a></span></li></ul></li><li><span><a href=\"#制御文\" data-toc-modified-id=\"制御文-1.11\"><span class=\"toc-item-num\">1.11&nbsp;&nbsp;</span>制御文</a></span><ul class=\"toc-item\"><li><span><a href=\"#if\" data-toc-modified-id=\"if-1.11.1\"><span class=\"toc-item-num\">1.11.1&nbsp;&nbsp;</span>if</a></span></li><li><span><a href=\"#Task\" data-toc-modified-id=\"Task-1.11.2\"><span class=\"toc-item-num\">1.11.2&nbsp;&nbsp;</span>Task</a></span></li><li><span><a href=\"#for\" data-toc-modified-id=\"for-1.11.3\"><span class=\"toc-item-num\">1.11.3&nbsp;&nbsp;</span>for</a></span></li><li><span><a href=\"#Task\" data-toc-modified-id=\"Task-1.11.4\"><span class=\"toc-item-num\">1.11.4&nbsp;&nbsp;</span>Task</a></span></li><li><span><a href=\"#Task\" data-toc-modified-id=\"Task-1.11.5\"><span class=\"toc-item-num\">1.11.5&nbsp;&nbsp;</span>Task</a></span></li></ul></li><li><span><a href=\"#論理式\" data-toc-modified-id=\"論理式-1.12\"><span class=\"toc-item-num\">1.12&nbsp;&nbsp;</span>論理式</a></span><ul class=\"toc-item\"><li><span><a href=\"#Task\" data-toc-modified-id=\"Task-1.12.1\"><span class=\"toc-item-num\">1.12.1&nbsp;&nbsp;</span>Task</a></span></li><li><span><a href=\"#Task\" data-toc-modified-id=\"Task-1.12.2\"><span class=\"toc-item-num\">1.12.2&nbsp;&nbsp;</span>Task</a></span></li><li><span><a href=\"#改行しないprint\" data-toc-modified-id=\"改行しないprint-1.12.3\"><span class=\"toc-item-num\">1.12.3&nbsp;&nbsp;</span>改行しないprint</a></span></li><li><span><a href=\"#Task\" data-toc-modified-id=\"Task-1.12.4\"><span class=\"toc-item-num\">1.12.4&nbsp;&nbsp;</span>Task</a></span></li></ul></li><li><span><a href=\"#インデキシング，スライシング\" data-toc-modified-id=\"インデキシング，スライシング-1.13\"><span class=\"toc-item-num\">1.13&nbsp;&nbsp;</span>インデキシング，スライシング</a></span><ul class=\"toc-item\"><li><span><a href=\"#Task\" data-toc-modified-id=\"Task-1.13.1\"><span class=\"toc-item-num\">1.13.1&nbsp;&nbsp;</span>Task</a></span></li><li><span><a href=\"#範囲指定\" data-toc-modified-id=\"範囲指定-1.13.2\"><span class=\"toc-item-num\">1.13.2&nbsp;&nbsp;</span>範囲指定</a></span></li><li><span><a href=\"#Task\" data-toc-modified-id=\"Task-1.13.3\"><span class=\"toc-item-num\">1.13.3&nbsp;&nbsp;</span>Task</a></span></li><li><span><a href=\"#Task\" data-toc-modified-id=\"Task-1.13.4\"><span class=\"toc-item-num\">1.13.4&nbsp;&nbsp;</span>Task</a></span></li><li><span><a href=\"#Task\" data-toc-modified-id=\"Task-1.13.5\"><span class=\"toc-item-num\">1.13.5&nbsp;&nbsp;</span>Task</a></span></li><li><span><a href=\"#Task\" data-toc-modified-id=\"Task-1.13.6\"><span class=\"toc-item-num\">1.13.6&nbsp;&nbsp;</span>Task</a></span></li></ul></li><li><span><a href=\"#arrayの要素毎の処理\" data-toc-modified-id=\"arrayの要素毎の処理-1.14\"><span class=\"toc-item-num\">1.14&nbsp;&nbsp;</span>arrayの要素毎の処理</a></span><ul class=\"toc-item\"><li><span><a href=\"#Task\" data-toc-modified-id=\"Task-1.14.1\"><span class=\"toc-item-num\">1.14.1&nbsp;&nbsp;</span>Task</a></span></li><li><span><a href=\"#行列に対する等号不等号\" data-toc-modified-id=\"行列に対する等号不等号-1.14.2\"><span class=\"toc-item-num\">1.14.2&nbsp;&nbsp;</span>行列に対する等号不等号</a></span></li><li><span><a href=\"#Task\" data-toc-modified-id=\"Task-1.14.3\"><span class=\"toc-item-num\">1.14.3&nbsp;&nbsp;</span>Task</a></span></li></ul></li><li><span><a href=\"#便利な関数\" data-toc-modified-id=\"便利な関数-1.15\"><span class=\"toc-item-num\">1.15&nbsp;&nbsp;</span>便利な関数</a></span><ul class=\"toc-item\"><li><span><a href=\"#Task\" data-toc-modified-id=\"Task-1.15.1\"><span class=\"toc-item-num\">1.15.1&nbsp;&nbsp;</span>Task</a></span></li></ul></li></ul></li></ul></div>"
   ]
  },
  {
   "cell_type": "markdown",
   "metadata": {
    "id": "SYD_2DwZAJnO"
   },
   "source": [
    "# Pythonとnotebookの使い方\n",
    "\n",
    "## Python\n",
    "\n",
    "[Python](https://www.python.jp)とは，科学技術計算から大規模webサービスまで様々な分野で利用されているスクリプト言語です．\n",
    "\n",
    "\n",
    "## IPythonとは\n",
    "\n",
    "[IPython](https://ipython.org)は，Pythonのインタラクティブな実行環境です．\n",
    "\n",
    "## Jupyter Notebookとは\n",
    "\n",
    "[Jupyter notebook](http://jupyter.org)とは，IPythonなどの言語をブラウザベースで実行することができる，インタラクティブな実行環境です．\n",
    "計算手順と計算結果を（まさにこのドキュメントのように）そのまま残すことができる，便利なツールです．\n",
    "基本的にはローカルに実行環境を構築（インストール）する必要があります．\n",
    "\n",
    "## Google Colaboratoryとは\n",
    "\n",
    "[Google Colaboratory](http://colab.research.google.com/)とは，Google上の仮想マシンでnotebookをブラウザベースで実行することができる，インタラクティブな実行環境です．ローカルに実行環境がなくてもクラウド上で実行が可能です．\n"
   ]
  },
  {
   "cell_type": "markdown",
   "metadata": {
    "id": "DtRxS2O7AJnO"
   },
   "source": [
    "では，この下の灰色の部分（セルと呼びます）にカーソルを移動して，そこでCtrl+Enterを押してください．これでそのセルのコードが実行できます．\n",
    "今後も，コードを実行するには「Ctrl+Enter」ですので，覚えておいてください．"
   ]
  },
  {
   "cell_type": "code",
   "execution_count": 1,
   "metadata": {
    "colab": {
     "base_uri": "https://localhost:8080/"
    },
    "executionInfo": {
     "elapsed": 4,
     "status": "ok",
     "timestamp": 1652169954433,
     "user": {
      "displayName": "玉木徹",
      "userId": "18176472173694321261"
     },
     "user_tz": -540
    },
    "id": "tbFC48ygAJnO",
    "outputId": "4a3ffa1c-9c21-47d8-d667-e5ed4240a09f"
   },
   "outputs": [
    {
     "data": {
      "text/plain": [
       "2"
      ]
     },
     "execution_count": 1,
     "metadata": {},
     "output_type": "execute_result"
    }
   ],
   "source": [
    "1 + 1"
   ]
  },
  {
   "cell_type": "markdown",
   "metadata": {
    "id": "fK5M5M4sAJnP"
   },
   "source": [
    "正しい答えが表示されましたか？　OK！　次に行きましょう． \n",
    "- この下のセルに移動して「Ctrl+Enter」でコードを実行してください\n",
    "- もしくは，このセルで「Sift+Enter」を押してください．すると，次のセルに移動します．もう一度「Sift+Enter」を押すと，次のセルが実行できます．\n",
    "（今後はいちいち書きませんよ）．"
   ]
  },
  {
   "cell_type": "code",
   "execution_count": 2,
   "metadata": {
    "colab": {
     "base_uri": "https://localhost:8080/"
    },
    "executionInfo": {
     "elapsed": 2,
     "status": "ok",
     "timestamp": 1652169956189,
     "user": {
      "displayName": "玉木徹",
      "userId": "18176472173694321261"
     },
     "user_tz": -540
    },
    "id": "5xjTq8zZAJnQ",
    "outputId": "671cfb9d-d714-42a6-f301-605c180ee806"
   },
   "outputs": [
    {
     "name": "stdout",
     "output_type": "stream",
     "text": [
      "150\n",
      "350\n"
     ]
    }
   ],
   "source": [
    "# ここはコメントです．\n",
    "\n",
    "f = 150      # 変数fをつかう\n",
    "g = 200 + f  # 変数gを使う\n",
    "print(f)  # 変数fを表示\n",
    "print(g)  # 変数gを表示"
   ]
  },
  {
   "cell_type": "markdown",
   "metadata": {
    "id": "Pv2LUn5xAJnR"
   },
   "source": [
    "jupyter notebookではセルが計算の単位です．\n",
    "- セルとセルの間に，新しいセルを追加したい場合には，上のメニューから「Insert Cell Above/Below」を選んでください．"
   ]
  },
  {
   "cell_type": "markdown",
   "metadata": {
    "id": "jz2vM_BhAJnR"
   },
   "source": [
    "### Task\n",
    "\n",
    "このすぐ下に新しいセルを追加して，そのセルに`8*34`を入力し，実行して答えを表示させてください．"
   ]
  },
  {
   "cell_type": "code",
   "execution_count": 3,
   "metadata": {
    "colab": {
     "base_uri": "https://localhost:8080/"
    },
    "executionInfo": {
     "elapsed": 234,
     "status": "ok",
     "timestamp": 1652169964041,
     "user": {
      "displayName": "玉木徹",
      "userId": "18176472173694321261"
     },
     "user_tz": -540
    },
    "id": "6XdWH8jhAJnR",
    "outputId": "8a7b3fc3-3b9e-46a9-b283-7eafd89e7aaf"
   },
   "outputs": [
    {
     "data": {
      "text/plain": [
       "272"
      ]
     },
     "execution_count": 3,
     "metadata": {},
     "output_type": "execute_result"
    }
   ],
   "source": [
    "8 * 34"
   ]
  },
  {
   "cell_type": "markdown",
   "metadata": {
    "id": "Zl-XfnK0AJnS"
   },
   "source": [
    "## notebookの注意点\n",
    "\n",
    "\n",
    "### 値の変更\n",
    "上の方のセルで使用した変数`f`と`g`は，ここでも使えます．"
   ]
  },
  {
   "cell_type": "code",
   "execution_count": 6,
   "metadata": {
    "colab": {
     "base_uri": "https://localhost:8080/"
    },
    "executionInfo": {
     "elapsed": 235,
     "status": "ok",
     "timestamp": 1652169972250,
     "user": {
      "displayName": "玉木徹",
      "userId": "18176472173694321261"
     },
     "user_tz": -540
    },
    "id": "bK2A9duoAJnS",
    "outputId": "8b519f51-bca0-4329-83b3-48d923f5fcef"
   },
   "outputs": [
    {
     "name": "stdout",
     "output_type": "stream",
     "text": [
      "100 80\n"
     ]
    }
   ],
   "source": [
    "print(f, g)"
   ]
  },
  {
   "cell_type": "markdown",
   "metadata": {
    "id": "zDasEZuNAJnS"
   },
   "source": [
    "値もそのまま残っていますね．しかし，以下のコードを実行すると，値が書き換わります．"
   ]
  },
  {
   "cell_type": "code",
   "execution_count": 5,
   "metadata": {
    "executionInfo": {
     "elapsed": 2,
     "status": "ok",
     "timestamp": 1652169968705,
     "user": {
      "displayName": "玉木徹",
      "userId": "18176472173694321261"
     },
     "user_tz": -540
    },
    "id": "rG-q0AgfAJnS"
   },
   "outputs": [],
   "source": [
    "f = 100\n",
    "g = 80"
   ]
  },
  {
   "cell_type": "markdown",
   "metadata": {
    "id": "QhsWDsXKAJnT"
   },
   "source": [
    "もう一度，fとgの値を表示している上のセルに戻って，実行し直してみてください．表示される値が変わっているはずです．\n",
    "このように，いつ変数が宣言されていつ値が書き換わるのかが，普通のプログラミングとは少し違うので，注意してください．"
   ]
  },
  {
   "cell_type": "markdown",
   "metadata": {
    "id": "allW635wAJnT"
   },
   "source": [
    "### Task\n",
    "\n",
    "値が変わっていることを確認してください．"
   ]
  },
  {
   "cell_type": "markdown",
   "metadata": {
    "id": "bjUdhsNtAJnT"
   },
   "source": [
    "### notebookカーネルの再起動\n",
    "\n",
    "上記の変数fとgは，notebookのカーネル（裏で動いている実体）が終了したり再起動したりすると，使えなくなります．"
   ]
  },
  {
   "cell_type": "markdown",
   "metadata": {
    "id": "l-87MrWvAJnT"
   },
   "source": [
    "### Task\n",
    "\n",
    "一番上に表示されているメニューの「Kernel」から「Restart（再起動）」を選んでください．\n",
    "これまで実行した結果（宣言した変数や保存されている値）が，すべて消えてなくなります！\n",
    "再起動してから，以下のコードを実行すると，宣言されていない変数f,gを参照した，というエラーが出るはずです．それを確認してください．\n",
    "\n",
    "（Colabの場合には「ランタイム」から「ランタイムを再起動」を選択）"
   ]
  },
  {
   "cell_type": "code",
   "execution_count": 1,
   "metadata": {
    "colab": {
     "base_uri": "https://localhost:8080/",
     "height": 166
    },
    "executionInfo": {
     "elapsed": 251,
     "status": "error",
     "timestamp": 1652169992459,
     "user": {
      "displayName": "玉木徹",
      "userId": "18176472173694321261"
     },
     "user_tz": -540
    },
    "id": "AOXaIVFUAJnT",
    "outputId": "dc46a5dd-0c35-46c3-fcb7-2367c56a5ce8"
   },
   "outputs": [
    {
     "ename": "NameError",
     "evalue": "ignored",
     "output_type": "error",
     "traceback": [
      "\u001b[0;31m---------------------------------------------------------------------------\u001b[0m",
      "\u001b[0;31mNameError\u001b[0m                                 Traceback (most recent call last)",
      "\u001b[0;32m<ipython-input-1-57d7d90eb7dd>\u001b[0m in \u001b[0;36m<module>\u001b[0;34m()\u001b[0m\n\u001b[0;32m----> 1\u001b[0;31m \u001b[0mprint\u001b[0m\u001b[0;34m(\u001b[0m\u001b[0mf\u001b[0m\u001b[0;34m,\u001b[0m \u001b[0mg\u001b[0m\u001b[0;34m)\u001b[0m\u001b[0;34m\u001b[0m\u001b[0;34m\u001b[0m\u001b[0m\n\u001b[0m",
      "\u001b[0;31mNameError\u001b[0m: name 'f' is not defined"
     ]
    }
   ],
   "source": [
    "print(f, g)"
   ]
  },
  {
   "cell_type": "markdown",
   "metadata": {
    "id": "BgmdR142AJnU"
   },
   "source": [
    "エラーの内容\n",
    "```\n",
    "---------------------------------------------------------------------------\n",
    "NameError                                 Traceback (most recent call last)\n",
    "<ipython-input-1-1fc60b275fa3> in <module>()\n",
    "----> 1 print(f, g)\n",
    "\n",
    "NameError: name 'f' is not defined\n",
    "```\n"
   ]
  },
  {
   "cell_type": "markdown",
   "metadata": {
    "id": "5we7lhx2AJnU"
   },
   "source": [
    "\n",
    "IPython notebookを終了してまた起動しても，同じことが起こります．\n",
    "Notebookは，インタラクティブに変数の値を書き換えることができる便利なツールですが，\n",
    "再起動のタイミングや，「一旦保存して，明日また起動しよう」ということを\n",
    "した時に，予期しないエラーに遭遇するかもしれませんので，注意してください．"
   ]
  },
  {
   "cell_type": "markdown",
   "metadata": {
    "id": "le66gnJjAJnU"
   },
   "source": [
    "## Pythonの簡単な使い方\n",
    "\n",
    "###  型，代入，計算，表示"
   ]
  },
  {
   "cell_type": "markdown",
   "metadata": {
    "id": "foSki2PbAJnU"
   },
   "source": [
    "セルでは，最後の行で評価された値が表示されます．"
   ]
  },
  {
   "cell_type": "code",
   "execution_count": 2,
   "metadata": {
    "colab": {
     "base_uri": "https://localhost:8080/"
    },
    "executionInfo": {
     "elapsed": 351,
     "status": "ok",
     "timestamp": 1652169998082,
     "user": {
      "displayName": "玉木徹",
      "userId": "18176472173694321261"
     },
     "user_tz": -540
    },
    "id": "FNxGRje_AJnU",
    "outputId": "cfec2a72-8533-4347-cfdb-94ea10349cf0"
   },
   "outputs": [
    {
     "data": {
      "text/plain": [
       "20"
      ]
     },
     "execution_count": 2,
     "metadata": {},
     "output_type": "execute_result"
    }
   ],
   "source": [
    "a = 10\n",
    "20"
   ]
  },
  {
   "cell_type": "code",
   "execution_count": 3,
   "metadata": {
    "colab": {
     "base_uri": "https://localhost:8080/"
    },
    "executionInfo": {
     "elapsed": 2,
     "status": "ok",
     "timestamp": 1652169998443,
     "user": {
      "displayName": "玉木徹",
      "userId": "18176472173694321261"
     },
     "user_tz": -540
    },
    "id": "1R0GjQq3AJnU",
    "outputId": "189a15f0-406c-4816-d2be-477b0294a4c5"
   },
   "outputs": [
    {
     "data": {
      "text/plain": [
       "10"
      ]
     },
     "execution_count": 3,
     "metadata": {},
     "output_type": "execute_result"
    }
   ],
   "source": [
    "a"
   ]
  },
  {
   "cell_type": "code",
   "execution_count": 4,
   "metadata": {
    "colab": {
     "base_uri": "https://localhost:8080/"
    },
    "executionInfo": {
     "elapsed": 2,
     "status": "ok",
     "timestamp": 1652169998804,
     "user": {
      "displayName": "玉木徹",
      "userId": "18176472173694321261"
     },
     "user_tz": -540
    },
    "id": "X0FhyeLcAJnV",
    "outputId": "b86dbd24-123c-4fc7-f6d6-fbfb6fc8991b"
   },
   "outputs": [
    {
     "name": "stdout",
     "output_type": "stream",
     "text": [
      "10\n"
     ]
    }
   ],
   "source": [
    "print(a)"
   ]
  },
  {
   "cell_type": "markdown",
   "metadata": {
    "id": "e0SEJwRvAJnV"
   },
   "source": [
    "「a」を値を表示したければセルの最後で`a`とするだけでもよいです．しかし複数の値を表示したい場合には`print`を使います．\n",
    "\n",
    "また，式評価とprintの出力が違う場合もあるので注意してください．"
   ]
  },
  {
   "cell_type": "code",
   "execution_count": 5,
   "metadata": {
    "colab": {
     "base_uri": "https://localhost:8080/"
    },
    "executionInfo": {
     "elapsed": 2,
     "status": "ok",
     "timestamp": 1652169999362,
     "user": {
      "displayName": "玉木徹",
      "userId": "18176472173694321261"
     },
     "user_tz": -540
    },
    "id": "lxstgxVKAJnV",
    "outputId": "e98d7f66-71cd-4cec-efc9-e5b34dbc987b"
   },
   "outputs": [
    {
     "name": "stdout",
     "output_type": "stream",
     "text": [
      "10\n",
      "20\n",
      "10\n"
     ]
    }
   ],
   "source": [
    "print(10)\n",
    "print(20)\n",
    "print(a)"
   ]
  },
  {
   "cell_type": "markdown",
   "metadata": {
    "id": "ZCifm5-JAJnV"
   },
   "source": [
    "Pythonでは，明示的に型を指定する必要はありません．\n",
    "- 代入する場合には`=`を使います\n",
    "- 変数の型を知りたい場合には`type()`を使います\n",
    "- 表示するには`print()`を使います"
   ]
  },
  {
   "cell_type": "code",
   "execution_count": 6,
   "metadata": {
    "colab": {
     "base_uri": "https://localhost:8080/"
    },
    "executionInfo": {
     "elapsed": 239,
     "status": "ok",
     "timestamp": 1652170002690,
     "user": {
      "displayName": "玉木徹",
      "userId": "18176472173694321261"
     },
     "user_tz": -540
    },
    "id": "H8_tJsK0AJnV",
    "outputId": "0b4157fc-7f75-4886-d663-c4306638787c"
   },
   "outputs": [
    {
     "name": "stdout",
     "output_type": "stream",
     "text": [
      "10 <class 'int'>\n"
     ]
    }
   ],
   "source": [
    "a = 10\n",
    "print(a, type(a))"
   ]
  },
  {
   "cell_type": "code",
   "execution_count": 7,
   "metadata": {
    "colab": {
     "base_uri": "https://localhost:8080/"
    },
    "executionInfo": {
     "elapsed": 216,
     "status": "ok",
     "timestamp": 1652170004254,
     "user": {
      "displayName": "玉木徹",
      "userId": "18176472173694321261"
     },
     "user_tz": -540
    },
    "id": "iKDT0Y7sAJnV",
    "outputId": "e199a1e9-2092-4c01-e53b-9e14e9cf8ab0"
   },
   "outputs": [
    {
     "name": "stdout",
     "output_type": "stream",
     "text": [
      "10.2 <class 'float'>\n"
     ]
    }
   ],
   "source": [
    "a = 10.2\n",
    "print(a, type(a))"
   ]
  },
  {
   "cell_type": "code",
   "execution_count": 8,
   "metadata": {
    "colab": {
     "base_uri": "https://localhost:8080/"
    },
    "executionInfo": {
     "elapsed": 1,
     "status": "ok",
     "timestamp": 1652170005207,
     "user": {
      "displayName": "玉木徹",
      "userId": "18176472173694321261"
     },
     "user_tz": -540
    },
    "id": "hucYCUMrAJnV",
    "outputId": "ef9103b4-07e8-4cb6-da0a-f0f9349f7a26"
   },
   "outputs": [
    {
     "name": "stdout",
     "output_type": "stream",
     "text": [
      "this is a text <class 'str'>\n"
     ]
    }
   ],
   "source": [
    "a = \"this is a text\"\n",
    "print(a, type(a))"
   ]
  },
  {
   "cell_type": "code",
   "execution_count": 9,
   "metadata": {
    "colab": {
     "base_uri": "https://localhost:8080/"
    },
    "executionInfo": {
     "elapsed": 222,
     "status": "ok",
     "timestamp": 1652170008819,
     "user": {
      "displayName": "玉木徹",
      "userId": "18176472173694321261"
     },
     "user_tz": -540
    },
    "id": "zeay3LCVAJnV",
    "outputId": "ba4b336e-b10b-43a2-f179-5736c491704d"
   },
   "outputs": [
    {
     "name": "stdout",
     "output_type": "stream",
     "text": [
      "2.5 is float\n",
      "2 is int\n",
      "1 is int\n"
     ]
    }
   ],
   "source": [
    "print(5 / 2, \"is float\")  # 除算\n",
    "print(5 // 2, \"is int\")  # 商\n",
    "print(5 % 2, \"is int\")  # あまり"
   ]
  },
  {
   "cell_type": "code",
   "execution_count": 10,
   "metadata": {
    "colab": {
     "base_uri": "https://localhost:8080/"
    },
    "executionInfo": {
     "elapsed": 235,
     "status": "ok",
     "timestamp": 1652170018252,
     "user": {
      "displayName": "玉木徹",
      "userId": "18176472173694321261"
     },
     "user_tz": -540
    },
    "id": "nqjo2Y2ZAJnW",
    "outputId": "7d0656e4-a1bf-4593-bfd3-11ac4cc095e2"
   },
   "outputs": [
    {
     "name": "stdout",
     "output_type": "stream",
     "text": [
      "10 <class 'int'>\n",
      "10.0 <class 'float'>\n",
      "10 <class 'int'>\n",
      "a is 10 , and its type is <class 'str'>\n"
     ]
    }
   ],
   "source": [
    "a = 10\n",
    "print(a, type(a))\n",
    "\n",
    "a = float(a)  # floatへ変換するにはfloat()を使います\n",
    "print(a, type(a))\n",
    "\n",
    "a = int(a)  # intへ変換するにはint()を使います\n",
    "print(a, type(a))\n",
    "\n",
    "a = str(a)  # 文字列へ変換するにはstr()を使います\n",
    "print('a is ' + a, ', and its type is ' + str(type(a)))"
   ]
  },
  {
   "cell_type": "code",
   "execution_count": 11,
   "metadata": {
    "colab": {
     "base_uri": "https://localhost:8080/"
    },
    "executionInfo": {
     "elapsed": 233,
     "status": "ok",
     "timestamp": 1652170021187,
     "user": {
      "displayName": "玉木徹",
      "userId": "18176472173694321261"
     },
     "user_tz": -540
    },
    "id": "brNsPmLUAJnW",
    "outputId": "950bbeed-9870-4e6e-9088-5de2ebf34ea9"
   },
   "outputs": [
    {
     "name": "stdout",
     "output_type": "stream",
     "text": [
      "this is a text\n"
     ]
    }
   ],
   "source": [
    "str1 = \"this is\"\n",
    "str2 = 'a text'\n",
    "\n",
    "str3 = str1 + \" \" + str2  # 文字列をつなげるときには + を使う\n",
    "print(str3)"
   ]
  },
  {
   "cell_type": "code",
   "execution_count": 1,
   "metadata": {
    "ExecuteTime": {
     "end_time": "2017-04-24T11:32:10.91037Z",
     "start_time": "2017-04-24T11:32:10.903128Z"
    },
    "colab": {
     "base_uri": "https://localhost:8080/"
    },
    "executionInfo": {
     "elapsed": 3,
     "status": "ok",
     "timestamp": 1652170022043,
     "user": {
      "displayName": "玉木徹",
      "userId": "18176472173694321261"
     },
     "user_tz": -540
    },
    "id": "Q6HKBDeqAJnW",
    "outputId": "cbf6651c-6159-4a52-b22a-39728b3980fd",
    "scrolled": true
   },
   "outputs": [
    {
     "name": "stdout",
     "output_type": "stream",
     "text": [
      "first number is 234 and second is 22\n",
      "first number is 234 and second is 22\n"
     ]
    }
   ],
   "source": [
    "num1 = 234\n",
    "num2 = 22\n",
    "\n",
    "str3 = \"first number is \" + str(num1) + \" and second is \" + str(num2)  # 数値は文字列に変換してからつなげる\n",
    "print(str3)"
   ]
  },
  {
   "cell_type": "code",
   "execution_count": 15,
   "metadata": {},
   "outputs": [
    {
     "name": "stdout",
     "output_type": "stream",
     "text": [
      "first number is 234 and second is 22\n",
      "-0.5\n",
      "sting: first number is 234 and second is 22 \n",
      " value_sum: -0.5 \n",
      " value_sum: -0.5\n"
     ]
    }
   ],
   "source": [
    "# pythonでコードを改行して続けるにはバックスラッシュを使います\n",
    "str3 = \"first number is \" \\\n",
    "    + str(num1) \\\n",
    "    + \" and second is \" \\\n",
    "    + str(num2)\n",
    "print(str3)\n",
    "\n",
    "value_sum = 1 + 2 \\\n",
    "    + 4 - 5 * 6 \\\n",
    "    / 4\n",
    "print(value_sum)\n",
    "\n",
    "# カッコの中ではバックスラッシュなしで改行できます\n",
    "print(\"sting:\", str3, \"\\n\",\n",
    "      \"value_sum:\", value_sum, \"\\n\",\n",
    "      \"value_sum:\", 1 + 2\n",
    "      + 4 - 5 * 6\n",
    "      / 4\n",
    "      )"
   ]
  },
  {
   "cell_type": "markdown",
   "metadata": {
    "id": "jWXh9p_iAJnW"
   },
   "source": [
    "### Task\n",
    "\n",
    "変数a, b, cにそれぞれ10, 20.0, 30を代入し，\n",
    "合計をdに代入してその値を\"sum is \"の文字列の後に表示してください．\n",
    "\n",
    "さらに，それを3で割った商と，3による除算を計算して表示してください．\n",
    "\n",
    "ヒント：数値の変数は，文字列に変換してから，他の文字列とつなげます"
   ]
  },
  {
   "cell_type": "code",
   "execution_count": 12,
   "metadata": {
    "executionInfo": {
     "elapsed": 229,
     "status": "ok",
     "timestamp": 1652170030982,
     "user": {
      "displayName": "玉木徹",
      "userId": "18176472173694321261"
     },
     "user_tz": -540
    },
    "id": "2OdiGrboAJnW"
   },
   "outputs": [],
   "source": []
  },
  {
   "cell_type": "markdown",
   "metadata": {
    "id": "CYi5YPEOAJnW"
   },
   "source": [
    "### Task\n",
    "\n",
    "以下のコードを実行するとエラーがでます．エラーをなくして正しく実行できるようにしてください．"
   ]
  },
  {
   "cell_type": "code",
   "execution_count": 13,
   "metadata": {
    "colab": {
     "base_uri": "https://localhost:8080/",
     "height": 131
    },
    "executionInfo": {
     "elapsed": 229,
     "status": "error",
     "timestamp": 1652170032746,
     "user": {
      "displayName": "玉木徹",
      "userId": "18176472173694321261"
     },
     "user_tz": -540
    },
    "id": "kUc1jwwJAJnW",
    "outputId": "87469b36-f555-4964-f6d0-d0929473a86f"
   },
   "outputs": [
    {
     "ename": "SyntaxError",
     "evalue": "ignored",
     "output_type": "error",
     "traceback": [
      "\u001b[0;36m  File \u001b[0;32m\"<ipython-input-13-ec65ee955246>\"\u001b[0;36m, line \u001b[0;32m1\u001b[0m\n\u001b[0;31m    b　=　10 # 全角スペースが入っている\u001b[0m\n\u001b[0m     ^\u001b[0m\n\u001b[0;31mSyntaxError\u001b[0m\u001b[0;31m:\u001b[0m invalid character in identifier\n"
     ]
    }
   ],
   "source": [
    "b　=　10  # 全角スペースが入っている\n",
    "print(b)\n",
    "\n",
    "c ＝ 20  # 全角の＝になっている\n",
    "print(c)"
   ]
  },
  {
   "cell_type": "markdown",
   "metadata": {
    "id": "ywXdT2k3AJnX"
   },
   "source": [
    "## リスト\n",
    "\n",
    "Pythonでもっとも重要な型がリスト（配列）です．要素を並べて`[]`でくくれば出来上がりです．"
   ]
  },
  {
   "cell_type": "code",
   "execution_count": 14,
   "metadata": {
    "colab": {
     "base_uri": "https://localhost:8080/"
    },
    "executionInfo": {
     "elapsed": 223,
     "status": "ok",
     "timestamp": 1652170036433,
     "user": {
      "displayName": "玉木徹",
      "userId": "18176472173694321261"
     },
     "user_tz": -540
    },
    "id": "9_65v8YTAJnX",
    "outputId": "ad9a8c2b-3efa-4f62-fb87-ae309737fb86"
   },
   "outputs": [
    {
     "name": "stdout",
     "output_type": "stream",
     "text": [
      "[0, 1, 2, 3, 4]\n",
      "<class 'list'>\n"
     ]
    }
   ],
   "source": [
    "a = [0, 1, 2, 3, 4]  # 1次元配列\n",
    "print(a)\n",
    "print(type(a))"
   ]
  },
  {
   "cell_type": "markdown",
   "metadata": {
    "id": "7FOWET2rAJnX"
   },
   "source": [
    "要素にアクセスするには`[]`でインデックスを指定します"
   ]
  },
  {
   "cell_type": "code",
   "execution_count": 15,
   "metadata": {
    "colab": {
     "base_uri": "https://localhost:8080/"
    },
    "executionInfo": {
     "elapsed": 251,
     "status": "ok",
     "timestamp": 1652170038105,
     "user": {
      "displayName": "玉木徹",
      "userId": "18176472173694321261"
     },
     "user_tz": -540
    },
    "id": "4VL6tr4sAJnX",
    "outputId": "2284cac0-c3a3-41da-f127-929ccb24bde2",
    "scrolled": true
   },
   "outputs": [
    {
     "name": "stdout",
     "output_type": "stream",
     "text": [
      "0\n",
      "1\n",
      "2\n",
      "100\n",
      "4\n",
      "[0, 1, 2, 100, 4]\n"
     ]
    }
   ],
   "source": [
    "a[3] = 100\n",
    "\n",
    "print(a[0])\n",
    "print(a[1])\n",
    "print(a[2])\n",
    "print(a[3])\n",
    "print(a[4])\n",
    "\n",
    "print(a)"
   ]
  },
  {
   "cell_type": "markdown",
   "metadata": {
    "id": "eZr5wHPtAJnX"
   },
   "source": [
    "### Task\n",
    "\n",
    "10から15までの整数のリストbを作って，printで一度に表示してください．また，それぞれの要素をprintで表示してください．"
   ]
  },
  {
   "cell_type": "code",
   "execution_count": 15,
   "metadata": {
    "executionInfo": {
     "elapsed": 331,
     "status": "ok",
     "timestamp": 1652170040646,
     "user": {
      "displayName": "玉木徹",
      "userId": "18176472173694321261"
     },
     "user_tz": -540
    },
    "id": "g88pYLCRAJnX"
   },
   "outputs": [],
   "source": []
  },
  {
   "cell_type": "markdown",
   "metadata": {
    "id": "OgoqE4DhAJnX"
   },
   "source": [
    "### Task\n",
    "\n",
    "リストの要素の個数は`len(リスト名)`で得られます．\n",
    "\n",
    "`len(a)`を使って，リストaの要素の個数を表示してください．"
   ]
  },
  {
   "cell_type": "code",
   "execution_count": 15,
   "metadata": {
    "executionInfo": {
     "elapsed": 1,
     "status": "ok",
     "timestamp": 1652170041011,
     "user": {
      "displayName": "玉木徹",
      "userId": "18176472173694321261"
     },
     "user_tz": -540
    },
    "id": "IpYStOE5AJnX"
   },
   "outputs": [],
   "source": []
  },
  {
   "cell_type": "markdown",
   "metadata": {
    "id": "gI_ujcWZAJnX"
   },
   "source": [
    "連続する数値のリストを作成するには`range()`を使います．（ただしpython3では`range`はイテレータオブジェクトを返すので，リストに変換するために`list()`を使います）"
   ]
  },
  {
   "cell_type": "code",
   "execution_count": 16,
   "metadata": {
    "colab": {
     "base_uri": "https://localhost:8080/"
    },
    "executionInfo": {
     "elapsed": 221,
     "status": "ok",
     "timestamp": 1652170045432,
     "user": {
      "displayName": "玉木徹",
      "userId": "18176472173694321261"
     },
     "user_tz": -540
    },
    "id": "ALg11CKgAJnX",
    "outputId": "4458ae8e-38e7-4e35-82bb-b773d48d3d97"
   },
   "outputs": [
    {
     "data": {
      "text/plain": [
       "[0, 1, 2, 3, 4, 5, 6, 7, 8, 9]"
      ]
     },
     "execution_count": 16,
     "metadata": {},
     "output_type": "execute_result"
    }
   ],
   "source": [
    "list(range(10))  # 0から9まで（10未満）"
   ]
  },
  {
   "cell_type": "code",
   "execution_count": 17,
   "metadata": {
    "colab": {
     "base_uri": "https://localhost:8080/"
    },
    "executionInfo": {
     "elapsed": 348,
     "status": "ok",
     "timestamp": 1652170046617,
     "user": {
      "displayName": "玉木徹",
      "userId": "18176472173694321261"
     },
     "user_tz": -540
    },
    "id": "DR7H8cPJAJnY",
    "outputId": "4d4fc825-bb43-4a56-aeb1-62417566707e"
   },
   "outputs": [
    {
     "data": {
      "text/plain": [
       "[4, 5, 6, 7]"
      ]
     },
     "execution_count": 17,
     "metadata": {},
     "output_type": "execute_result"
    }
   ],
   "source": [
    "list(range(4, 8))  # 4から7まで（8未満）"
   ]
  },
  {
   "cell_type": "markdown",
   "metadata": {
    "id": "2bUpwS9RAJnY"
   },
   "source": [
    "### Task\n",
    "\n",
    "-50から50までの整数からなるリストを作成して表示してください．"
   ]
  },
  {
   "cell_type": "code",
   "execution_count": 17,
   "metadata": {
    "executionInfo": {
     "elapsed": 219,
     "status": "ok",
     "timestamp": 1652170049432,
     "user": {
      "displayName": "玉木徹",
      "userId": "18176472173694321261"
     },
     "user_tz": -540
    },
    "id": "uzrNwOpwAJnY"
   },
   "outputs": [],
   "source": []
  },
  {
   "cell_type": "markdown",
   "metadata": {
    "id": "z9zGjh_KAJnY"
   },
   "source": [
    "一つのリストの中に，異なる型の要素を入れることもできます（できますが，分かりにくいので使わないでください）．"
   ]
  },
  {
   "cell_type": "code",
   "execution_count": 1,
   "metadata": {
    "colab": {
     "base_uri": "https://localhost:8080/"
    },
    "executionInfo": {
     "elapsed": 313,
     "status": "ok",
     "timestamp": 1652170050956,
     "user": {
      "displayName": "玉木徹",
      "userId": "18176472173694321261"
     },
     "user_tz": -540
    },
    "id": "bG_o2y5LAJnY",
    "outputId": "812f1a2b-1f52-4e47-bce0-0ab51e45db1d"
   },
   "outputs": [
    {
     "name": "stdout",
     "output_type": "stream",
     "text": [
      "[0, 1.3, 'hello', 3, (1+4j)]\n",
      "<class 'list'>\n"
     ]
    }
   ],
   "source": [
    "a = [0, 1.3, \"hello\", 3, 1+4j]\n",
    "print(a)\n",
    "print(type(a))"
   ]
  },
  {
   "cell_type": "code",
   "execution_count": 3,
   "metadata": {
    "colab": {
     "base_uri": "https://localhost:8080/"
    },
    "executionInfo": {
     "elapsed": 220,
     "status": "ok",
     "timestamp": 1652170052804,
     "user": {
      "displayName": "玉木徹",
      "userId": "18176472173694321261"
     },
     "user_tz": -540
    },
    "id": "KqjO2xUWAJnY",
    "outputId": "51d6c664-4e65-4c0d-993f-3f32c7dd6fbd"
   },
   "outputs": [
    {
     "name": "stdout",
     "output_type": "stream",
     "text": [
      "0 <class 'int'>\n",
      "1.3 <class 'float'>\n",
      "hello <class 'str'>\n",
      "3 <class 'int'>\n",
      "(1+4j) <class 'complex'>\n"
     ]
    }
   ],
   "source": [
    "print(a[0], type(a[0]))  # 整数\n",
    "print(a[1], type(a[1]))  # 実数\n",
    "print(a[2], type(a[2]))  # 文字列\n",
    "print(a[3], type(a[3]))  # 整数\n",
    "print(a[4], type(a[4]))  # 複素数"
   ]
  },
  {
   "cell_type": "markdown",
   "metadata": {
    "id": "dDvLYMvKAJnY"
   },
   "source": [
    "### 2次元配列：リストのリスト\n",
    "\n",
    "2次元配列は`[]`の中に要素としてリストを指定します．"
   ]
  },
  {
   "cell_type": "code",
   "execution_count": 20,
   "metadata": {
    "colab": {
     "base_uri": "https://localhost:8080/"
    },
    "executionInfo": {
     "elapsed": 218,
     "status": "ok",
     "timestamp": 1652170066100,
     "user": {
      "displayName": "玉木徹",
      "userId": "18176472173694321261"
     },
     "user_tz": -540
    },
    "id": "rq7Kz32sAJnY",
    "outputId": "b525d693-db8e-4629-b09b-63a3e08804a2"
   },
   "outputs": [
    {
     "name": "stdout",
     "output_type": "stream",
     "text": [
      "[[0, 1, 2], [3, 4, 5, 6], [7]]\n"
     ]
    }
   ],
   "source": [
    "a = [[0, 1, 2], [3, 4, 5, 6], [7]]\n",
    "print(a)"
   ]
  },
  {
   "cell_type": "code",
   "execution_count": 21,
   "metadata": {
    "colab": {
     "base_uri": "https://localhost:8080/"
    },
    "executionInfo": {
     "elapsed": 2,
     "status": "ok",
     "timestamp": 1652170066484,
     "user": {
      "displayName": "玉木徹",
      "userId": "18176472173694321261"
     },
     "user_tz": -540
    },
    "id": "HIN5BVFVAJnY",
    "outputId": "4521757a-8ee7-48f3-a960-7e11dc309ab9"
   },
   "outputs": [
    {
     "name": "stdout",
     "output_type": "stream",
     "text": [
      "[0, 1, 2]\n",
      "[3, 4, 5, 6]\n"
     ]
    }
   ],
   "source": [
    "print(a[0])  # aの中の最初のリスト\n",
    "print(a[1])  # aの中の次のリスト"
   ]
  },
  {
   "cell_type": "code",
   "execution_count": 22,
   "metadata": {
    "colab": {
     "base_uri": "https://localhost:8080/"
    },
    "executionInfo": {
     "elapsed": 2,
     "status": "ok",
     "timestamp": 1652170066806,
     "user": {
      "displayName": "玉木徹",
      "userId": "18176472173694321261"
     },
     "user_tz": -540
    },
    "id": "kjq6oN5QAJnY",
    "outputId": "287c842b-1acd-4a71-8e3e-1be740b590d9"
   },
   "outputs": [
    {
     "name": "stdout",
     "output_type": "stream",
     "text": [
      "0\n",
      "3\n",
      "1\n",
      "4\n"
     ]
    }
   ],
   "source": [
    "print(a[0][0])  # aの中の最初のリストa[0]の，最初の要素[0]\n",
    "print(a[1][0])  # aの中の最初のリストa[1]の，最初の要素[0]\n",
    "\n",
    "print(a[0][1])  # aの中の最初のリストa[0]の，２つ目の要素[1]\n",
    "print(a[1][1])  # aの中の最初のリストa[1]の，２つ目の要素[1]"
   ]
  },
  {
   "cell_type": "markdown",
   "metadata": {
    "id": "ay5XMw3ZAJnZ"
   },
   "source": [
    "### Task\n",
    "```\n",
    "[0,1]\n",
    "[2,3]\n",
    "[4,5]\n",
    "```\n",
    "という2次元リストaを作成し，表示してください．また一番右下の要素だけを表示してください．"
   ]
  },
  {
   "cell_type": "code",
   "execution_count": 22,
   "metadata": {
    "executionInfo": {
     "elapsed": 250,
     "status": "ok",
     "timestamp": 1652170074383,
     "user": {
      "displayName": "玉木徹",
      "userId": "18176472173694321261"
     },
     "user_tz": -540
    },
    "id": "NfsKu5T4AJnZ"
   },
   "outputs": [],
   "source": []
  },
  {
   "cell_type": "markdown",
   "metadata": {
    "id": "nwTKdHSxAJnZ"
   },
   "source": [
    "### Task\n",
    "\n",
    "2次元リストの縦のサイズも`len`で取得できます．\n",
    "\n",
    "リスト\n",
    "`\n",
    "a = [ [0, 1, 2], [3, 4, 5, 6], [7] ]\n",
    "`\n",
    "の要素はリストなので，要素の個数をlenで表示してください．3になるはずです．\n",
    "\n",
    "\n",
    "さらにそれぞれの要素に対して，lenで個数を表示してください．\n",
    "（それぞれ3, 4, 1になるはずです）\n",
    "\n"
   ]
  },
  {
   "cell_type": "code",
   "execution_count": 24,
   "metadata": {
    "executionInfo": {
     "elapsed": 219,
     "status": "ok",
     "timestamp": 1652170088998,
     "user": {
      "displayName": "玉木徹",
      "userId": "18176472173694321261"
     },
     "user_tz": -540
    },
    "id": "0slCNzk7AJnZ"
   },
   "outputs": [],
   "source": [
    "a = [[0, 1, 2], [3, 4, 5, 6], [7]]"
   ]
  },
  {
   "cell_type": "markdown",
   "metadata": {
    "id": "3e3MnWZkAJnZ"
   },
   "source": [
    "## array\n",
    "\n",
    "行列計算や画像処理で用いる2次元配列はarrayもしくはndarrayと呼ばれます．\n",
    "これを使うためには，numpyというモジュールを読み込む必要があります．\n"
   ]
  },
  {
   "cell_type": "code",
   "execution_count": 1,
   "metadata": {
    "executionInfo": {
     "elapsed": 214,
     "status": "ok",
     "timestamp": 1652170093826,
     "user": {
      "displayName": "玉木徹",
      "userId": "18176472173694321261"
     },
     "user_tz": -540
    },
    "id": "y0fRKNKtAJnZ"
   },
   "outputs": [],
   "source": [
    "# notebookカーネルを起動したときには，毎回この読み込みが必要になります\n",
    "import numpy as np"
   ]
  },
  {
   "cell_type": "markdown",
   "metadata": {
    "id": "IznvzOEBAJnZ"
   },
   "source": [
    "これ以降はnpという識別子を使います．"
   ]
  },
  {
   "cell_type": "code",
   "execution_count": 2,
   "metadata": {
    "colab": {
     "base_uri": "https://localhost:8080/"
    },
    "executionInfo": {
     "elapsed": 217,
     "status": "ok",
     "timestamp": 1652170095728,
     "user": {
      "displayName": "玉木徹",
      "userId": "18176472173694321261"
     },
     "user_tz": -540
    },
    "id": "vXMdlF6aAJnZ",
    "outputId": "8ec1d352-e352-49c5-bb0d-0ce0d8b2131d"
   },
   "outputs": [
    {
     "name": "stdout",
     "output_type": "stream",
     "text": [
      "[10 20 30]\n",
      "<class 'numpy.ndarray'>\n"
     ]
    }
   ],
   "source": [
    "a = np.array([10, 20, 30])  # リストから1次元arrayを作る\n",
    "print(a)\n",
    "print(type(a))  # aの型はnumpyのarray（正確にはN次元array: ndarray）"
   ]
  },
  {
   "cell_type": "markdown",
   "metadata": {
    "id": "-q-78BR5AJnZ"
   },
   "source": [
    "np.arrayのデータの型を調べるには.dtypeを使います．"
   ]
  },
  {
   "cell_type": "code",
   "execution_count": 3,
   "metadata": {
    "colab": {
     "base_uri": "https://localhost:8080/"
    },
    "executionInfo": {
     "elapsed": 378,
     "status": "ok",
     "timestamp": 1652170097799,
     "user": {
      "displayName": "玉木徹",
      "userId": "18176472173694321261"
     },
     "user_tz": -540
    },
    "id": "JbP2DHPUAJnZ",
    "outputId": "e66c6f82-b2cb-4c05-95a8-cd1a183f6570"
   },
   "outputs": [
    {
     "name": "stdout",
     "output_type": "stream",
     "text": [
      "int64\n"
     ]
    }
   ],
   "source": [
    "print(a.dtype)  # aのデータの型はint64"
   ]
  },
  {
   "cell_type": "markdown",
   "metadata": {
    "id": "3n0vAO2rAJna"
   },
   "source": [
    "### Task\n",
    "\n",
    "リストと違い，arrayの要素の型はすべて同じでなければなりません．\n",
    "一つでも実数値の要素があると，すべての要素が実数値になります．\n",
    "\n",
    "以下の3つのarrayの型を，`.dtype`を使って表示して確認してください．"
   ]
  },
  {
   "cell_type": "code",
   "execution_count": 4,
   "metadata": {
    "colab": {
     "base_uri": "https://localhost:8080/"
    },
    "executionInfo": {
     "elapsed": 234,
     "status": "ok",
     "timestamp": 1652170101682,
     "user": {
      "displayName": "玉木徹",
      "userId": "18176472173694321261"
     },
     "user_tz": -540
    },
    "id": "gmbP6PGuAJna",
    "outputId": "41c98b89-b150-49a0-b738-92c54c697115"
   },
   "outputs": [
    {
     "name": "stdout",
     "output_type": "stream",
     "text": [
      "[10 20 30]\n",
      "[10. 20. 30.]\n",
      "['10' '20' 'test']\n"
     ]
    }
   ],
   "source": [
    "a = np.array([10, 20, 30])\n",
    "print(a)\n",
    "\n",
    "b = np.array([10, 20, 30.0])\n",
    "print(b)\n",
    "\n",
    "c = np.array([10, 20, \"test\"])\n",
    "print(c)"
   ]
  },
  {
   "cell_type": "markdown",
   "metadata": {
    "id": "-28D4gV3AJna"
   },
   "source": [
    "2次元arrayも2次元リストと同様に作成できます．"
   ]
  },
  {
   "cell_type": "code",
   "execution_count": 5,
   "metadata": {
    "colab": {
     "base_uri": "https://localhost:8080/"
    },
    "executionInfo": {
     "elapsed": 219,
     "status": "ok",
     "timestamp": 1652170105731,
     "user": {
      "displayName": "玉木徹",
      "userId": "18176472173694321261"
     },
     "user_tz": -540
    },
    "id": "1PM9wZH7AJna",
    "outputId": "c84093dd-4e1d-440a-a37f-d23f854fe345",
    "scrolled": true
   },
   "outputs": [
    {
     "name": "stdout",
     "output_type": "stream",
     "text": [
      "[[0 1 2]\n",
      " [3 4 5]] int64\n"
     ]
    }
   ],
   "source": [
    "a = np.array([[0, 1, 2], [3, 4, 5]])  # 2次元array\n",
    "print(a, a.dtype)  # 型はint"
   ]
  },
  {
   "cell_type": "code",
   "execution_count": 6,
   "metadata": {},
   "outputs": [],
   "source": [
    "# 以下のように見やすく改行して与えることもできます\n",
    "\n",
    "a = np.array([[0, 1, 2],\n",
    "              [3, 4, 5]])\n",
    "\n",
    "a = np.array(\n",
    "    [[0, 1, 2],\n",
    "     [3, 4, 5]])\n",
    "\n",
    "a = np.array([\n",
    "    [0, 1, 2],\n",
    "    [3, 4, 5]\n",
    "])"
   ]
  },
  {
   "cell_type": "markdown",
   "metadata": {
    "id": "lp9M3WHIAJna"
   },
   "source": [
    "リストとは違い，arrayの要素の型は数値のみで，すべて同じになります．"
   ]
  },
  {
   "cell_type": "code",
   "execution_count": 7,
   "metadata": {
    "colab": {
     "base_uri": "https://localhost:8080/"
    },
    "executionInfo": {
     "elapsed": 225,
     "status": "ok",
     "timestamp": 1652170108343,
     "user": {
      "displayName": "玉木徹",
      "userId": "18176472173694321261"
     },
     "user_tz": -540
    },
    "id": "ML8NCvafAJna",
    "outputId": "8bdcbb4f-929b-44b0-95ef-b3ab91ccc0c8"
   },
   "outputs": [
    {
     "name": "stdout",
     "output_type": "stream",
     "text": [
      "[[0.  1.5 2. ]\n",
      " [3.  4.  5. ]] float64\n"
     ]
    }
   ],
   "source": [
    "a = np.array([[0, 1.5, 2], [3, 4, 5]])  # ひとつでも実数があると\n",
    "print(a, a.dtype)  # 型はfloat"
   ]
  },
  {
   "cell_type": "markdown",
   "metadata": {
    "id": "XCucICT5AJna"
   },
   "source": [
    "2次元arrayを行列とみなして，行列計算もできます．"
   ]
  },
  {
   "cell_type": "code",
   "execution_count": 9,
   "metadata": {
    "colab": {
     "base_uri": "https://localhost:8080/"
    },
    "executionInfo": {
     "elapsed": 3,
     "status": "ok",
     "timestamp": 1652170109362,
     "user": {
      "displayName": "玉木徹",
      "userId": "18176472173694321261"
     },
     "user_tz": -540
    },
    "id": "lVWwy9wWAJna",
    "outputId": "b7a53f7e-6935-481e-8fb4-9f54efa08f41"
   },
   "outputs": [
    {
     "name": "stdout",
     "output_type": "stream",
     "text": [
      "a is \n",
      " [[0.  0.1 0.2]\n",
      " [0.3 0.4 0.5]]\n",
      "b is \n",
      " [[0.  0.3]\n",
      " [0.1 0.4]\n",
      " [0.2 0.5]]\n"
     ]
    }
   ],
   "source": [
    "a = np.array([[0, 1, 2], [3, 4, 5]])\n",
    "a = 0.1 * a  # スカラー倍\n",
    "b = a.T  # 転置\n",
    "print('a is \\n', a)\n",
    "print('b is \\n', b)"
   ]
  },
  {
   "cell_type": "markdown",
   "metadata": {
    "id": "4mPFUguCAJna"
   },
   "source": [
    "乗算は，要素ごとの積になります．注意！"
   ]
  },
  {
   "cell_type": "code",
   "execution_count": 10,
   "metadata": {
    "colab": {
     "base_uri": "https://localhost:8080/"
    },
    "executionInfo": {
     "elapsed": 212,
     "status": "ok",
     "timestamp": 1652170114036,
     "user": {
      "displayName": "玉木徹",
      "userId": "18176472173694321261"
     },
     "user_tz": -540
    },
    "id": "WDrv6-80AJna",
    "outputId": "dbcc37f3-5983-4e44-ad0b-6a1bb5f552e1",
    "scrolled": true
   },
   "outputs": [
    {
     "data": {
      "text/plain": [
       "array([[0.  , 0.01, 0.04],\n",
       "       [0.09, 0.16, 0.25]])"
      ]
     },
     "execution_count": 10,
     "metadata": {},
     "output_type": "execute_result"
    }
   ],
   "source": [
    "a * a"
   ]
  },
  {
   "cell_type": "code",
   "execution_count": 11,
   "metadata": {
    "colab": {
     "base_uri": "https://localhost:8080/",
     "height": 200
    },
    "executionInfo": {
     "elapsed": 230,
     "status": "error",
     "timestamp": 1652170124869,
     "user": {
      "displayName": "玉木徹",
      "userId": "18176472173694321261"
     },
     "user_tz": -540
    },
    "id": "q7-J-2UoAJna",
    "outputId": "f81cacfd-57be-404c-91a6-4ded98799558",
    "scrolled": true
   },
   "outputs": [
    {
     "ename": "ValueError",
     "evalue": "operands could not be broadcast together with shapes (2,3) (3,2) ",
     "output_type": "error",
     "traceback": [
      "\u001b[0;31m---------------------------------------------------------------------------\u001b[0m",
      "\u001b[0;31mValueError\u001b[0m                                Traceback (most recent call last)",
      "\u001b[1;32mセル82 を /Users/tamaki/Dropbox/科学技術計算/IP1-1.ipynb\u001b[0m in \u001b[0;36m<cell line: 3>\u001b[0;34m()\u001b[0m\n\u001b[1;32m      <a href='vscode-notebook-cell:/Users/tamaki/Dropbox/%E7%A7%91%E5%AD%A6%E6%8A%80%E8%A1%93%E8%A8%88%E7%AE%97/IP1-1.ipynb#Y144sZmlsZQ%3D%3D?line=0'>1</a>\u001b[0m \u001b[39m# これはエラーになります．aとbの次元が違うので\u001b[39;00m\n\u001b[0;32m----> <a href='vscode-notebook-cell:/Users/tamaki/Dropbox/%E7%A7%91%E5%AD%A6%E6%8A%80%E8%A1%93%E8%A8%88%E7%AE%97/IP1-1.ipynb#Y144sZmlsZQ%3D%3D?line=2'>3</a>\u001b[0m a \u001b[39m*\u001b[39;49m b\n",
      "\u001b[0;31mValueError\u001b[0m: operands could not be broadcast together with shapes (2,3) (3,2) "
     ]
    }
   ],
   "source": [
    "# これはエラーになります．aとbの次元が違うので\n",
    "\n",
    "a * b"
   ]
  },
  {
   "cell_type": "markdown",
   "metadata": {
    "id": "_aVYF17gAJnb"
   },
   "source": [
    "エラーの内容\n",
    "```\n",
    "---------------------------------------------------------------------------\n",
    "ValueError                                Traceback (most recent call last)\n",
    "<ipython-input-26-efe16d370064> in <module>()\n",
    "----> 1 a * b\n",
    "\n",
    "ValueError: operands could not be broadcast together with shapes (2,3) (3,2) \n",
    "```"
   ]
  },
  {
   "cell_type": "markdown",
   "metadata": {
    "id": "Sy9-NQxtAJnb"
   },
   "source": [
    "aとbの内積や，行列同士の積を計算したい場合には，`.dot()`を使います．`np.dot()`でもできます．また`@`を使うことも出来ます）．"
   ]
  },
  {
   "cell_type": "code",
   "execution_count": 38,
   "metadata": {
    "colab": {
     "base_uri": "https://localhost:8080/"
    },
    "executionInfo": {
     "elapsed": 247,
     "status": "ok",
     "timestamp": 1652170150074,
     "user": {
      "displayName": "玉木徹",
      "userId": "18176472173694321261"
     },
     "user_tz": -540
    },
    "id": "iaU_Km9_AJnb",
    "outputId": "8e7c97d1-6615-42bf-89f3-1e3f1343aab8",
    "scrolled": true
   },
   "outputs": [
    {
     "data": {
      "text/plain": [
       "array([[0.05, 0.14],\n",
       "       [0.14, 0.5 ]])"
      ]
     },
     "execution_count": 38,
     "metadata": {},
     "output_type": "execute_result"
    }
   ],
   "source": [
    "a.dot(b)  # a.b"
   ]
  },
  {
   "cell_type": "code",
   "execution_count": 39,
   "metadata": {
    "colab": {
     "base_uri": "https://localhost:8080/"
    },
    "executionInfo": {
     "elapsed": 2,
     "status": "ok",
     "timestamp": 1652170150439,
     "user": {
      "displayName": "玉木徹",
      "userId": "18176472173694321261"
     },
     "user_tz": -540
    },
    "id": "GWkekx1JAJnb",
    "outputId": "8bd4b4c7-22b7-47e4-87f9-703c1964ef39"
   },
   "outputs": [
    {
     "data": {
      "text/plain": [
       "array([[0.05, 0.14],\n",
       "       [0.14, 0.5 ]])"
      ]
     },
     "execution_count": 39,
     "metadata": {},
     "output_type": "execute_result"
    }
   ],
   "source": [
    "np.dot(a, b)  # a.b"
   ]
  },
  {
   "cell_type": "code",
   "execution_count": 40,
   "metadata": {
    "colab": {
     "base_uri": "https://localhost:8080/"
    },
    "executionInfo": {
     "elapsed": 1,
     "status": "ok",
     "timestamp": 1652170150668,
     "user": {
      "displayName": "玉木徹",
      "userId": "18176472173694321261"
     },
     "user_tz": -540
    },
    "id": "wg0kZzTHAJnb",
    "outputId": "463891e4-06bc-44a7-9258-86f5341a91c8"
   },
   "outputs": [
    {
     "data": {
      "text/plain": [
       "array([[0.05, 0.14],\n",
       "       [0.14, 0.5 ]])"
      ]
     },
     "execution_count": 40,
     "metadata": {},
     "output_type": "execute_result"
    }
   ],
   "source": [
    "a @ b"
   ]
  },
  {
   "cell_type": "markdown",
   "metadata": {
    "id": "YiVMBgswAJnb"
   },
   "source": [
    "### Task\n",
    "\n",
    "2つの行列\n",
    "$\n",
    "\\begin{pmatrix}\n",
    "1 & 0  \\\\\n",
    "0 & 1\n",
    "\\end{pmatrix}\n",
    "$\n",
    "と\n",
    "$\n",
    "\\begin{pmatrix}\n",
    "1 & 2  \\\\\n",
    "3 & 4\n",
    "\\end{pmatrix}\n",
    "$\n",
    "を作ります．\n",
    "この2つの行列の\n",
    "\n",
    "- 要素ごとの積\n",
    "- 要素ごとの和（つまり普通の行列の和）\n",
    "- 行列の積\n",
    "\n",
    "を計算して表示してください．\n",
    "\n"
   ]
  },
  {
   "cell_type": "code",
   "execution_count": 40,
   "metadata": {
    "executionInfo": {
     "elapsed": 223,
     "status": "ok",
     "timestamp": 1652170152891,
     "user": {
      "displayName": "玉木徹",
      "userId": "18176472173694321261"
     },
     "user_tz": -540
    },
    "id": "1XFjDl9oAJnb"
   },
   "outputs": [],
   "source": []
  },
  {
   "cell_type": "markdown",
   "metadata": {
    "id": "LGrIDE5cAJnb"
   },
   "source": [
    "## 便利な関数\n",
    "\n",
    "numpyには便利な関数がたくさんあります．\n",
    "この先に必要で重要なものをいくつか以下に示します．"
   ]
  },
  {
   "cell_type": "markdown",
   "metadata": {
    "id": "lNGWCoXxAJnb"
   },
   "source": [
    "まずは0から1までの実数乱数のベクトルや行列を作る関数です．"
   ]
  },
  {
   "cell_type": "code",
   "execution_count": 41,
   "metadata": {
    "colab": {
     "base_uri": "https://localhost:8080/"
    },
    "executionInfo": {
     "elapsed": 331,
     "status": "ok",
     "timestamp": 1652170154351,
     "user": {
      "displayName": "玉木徹",
      "userId": "18176472173694321261"
     },
     "user_tz": -540
    },
    "id": "SVRx9z-VAJnb",
    "outputId": "12630af9-3feb-4ac8-b06a-8539a9fac3d2"
   },
   "outputs": [
    {
     "name": "stdout",
     "output_type": "stream",
     "text": [
      "a is \n",
      "[0.490814   0.42267748 0.81441026 0.21928734 0.82341722 0.78444864\n",
      " 0.36432737 0.23721344 0.21699485 0.58627822]\n",
      "b is\n",
      "[[0.06613794 0.52609035 0.49012967 0.28049996]\n",
      " [0.34490035 0.1503054  0.18833388 0.66317476]\n",
      " [0.79489178 0.61483038 0.02390171 0.1037082 ]]\n"
     ]
    }
   ],
   "source": [
    "# サイズが10の乱数arrayを作る．値は0から1までの実数\n",
    "a = np.random.rand(10)\n",
    "\n",
    "# サイズが3x4の乱数arrayを作る．値は0から1までの実数\n",
    "b = np.random.rand(3, 4)\n",
    "\n",
    "print(\"a is \")\n",
    "print(a)\n",
    "print(\"b is\")\n",
    "print(b)"
   ]
  },
  {
   "cell_type": "markdown",
   "metadata": {
    "id": "5v8tiuQgAJnb"
   },
   "source": [
    "次は整数乱数のベクトルや行列を作る関数です．randとrandintは使い方が違うので注意してください．"
   ]
  },
  {
   "cell_type": "code",
   "execution_count": 42,
   "metadata": {
    "colab": {
     "base_uri": "https://localhost:8080/"
    },
    "executionInfo": {
     "elapsed": 415,
     "status": "ok",
     "timestamp": 1652170155819,
     "user": {
      "displayName": "玉木徹",
      "userId": "18176472173694321261"
     },
     "user_tz": -540
    },
    "id": "rLQ1zi9wAJnc",
    "outputId": "63be915c-a68e-406d-fea6-08bd8a736647"
   },
   "outputs": [
    {
     "name": "stdout",
     "output_type": "stream",
     "text": [
      "a is  [36  0  8 35  8 57 73 64  0 84]\n",
      "b is\n",
      " [[25 32  3 25]\n",
      " [26 42  5  2]\n",
      " [17 32 12  9]]\n"
     ]
    }
   ],
   "source": [
    "# サイズが10の乱数arrayを作る．値は0から99までの整数（100までではないので注意！）\n",
    "a = np.random.randint(100, size=(10))\n",
    "\n",
    "# サイズが3x4の乱数arrayを作る．値は0から49までの整数\n",
    "b = np.random.randint(50, size=(3, 4))\n",
    "\n",
    "print(\"a is \", a)\n",
    "print(\"b is\\n\", b)"
   ]
  },
  {
   "cell_type": "markdown",
   "metadata": {
    "id": "4yBZbu0sAJnc"
   },
   "source": [
    "次はゼロや1からなるベクトル・行列を作る関数です．"
   ]
  },
  {
   "cell_type": "code",
   "execution_count": 16,
   "metadata": {
    "colab": {
     "base_uri": "https://localhost:8080/"
    },
    "executionInfo": {
     "elapsed": 1,
     "status": "ok",
     "timestamp": 1652170156198,
     "user": {
      "displayName": "玉木徹",
      "userId": "18176472173694321261"
     },
     "user_tz": -540
    },
    "id": "bdBXnPRoAJnc",
    "outputId": "685e4b44-474c-445d-fab3-6a3f079c3071"
   },
   "outputs": [
    {
     "name": "stdout",
     "output_type": "stream",
     "text": [
      "a is \n",
      " [[0. 0. 0. 0. 0. 0. 0. 0.]\n",
      " [0. 0. 0. 0. 0. 0. 0. 0.]\n",
      " [0. 0. 0. 0. 0. 0. 0. 0.]]\n",
      "a is \n",
      " [[0. 0. 0. 0. 0. 0. 0. 0.]\n",
      " [0. 0. 0. 0. 0. 0. 0. 0.]\n",
      " [0. 0. 0. 0. 0. 0. 0. 0.]]\n",
      "b is  [0. 0. 0. 0. 0. 0. 0. 0.]\n"
     ]
    }
   ],
   "source": [
    "# サイズが3x8のゼロ行列を生成\n",
    "a = np.zeros(shape=(3, 8))\n",
    "print(\"a is \\n\", a)\n",
    "\n",
    "# \"shape=\"を省略することもできます\n",
    "a = np.zeros((3, 8))  # np.zeros(3, 8)ではないことに注意！\n",
    "print(\"a is \\n\", a)\n",
    "\n",
    "# サイズが8のゼロベクトルを生成\n",
    "b = np.zeros(8)\n",
    "print(\"b is \", b)"
   ]
  },
  {
   "cell_type": "code",
   "execution_count": 17,
   "metadata": {
    "colab": {
     "base_uri": "https://localhost:8080/"
    },
    "executionInfo": {
     "elapsed": 2,
     "status": "ok",
     "timestamp": 1652170156906,
     "user": {
      "displayName": "玉木徹",
      "userId": "18176472173694321261"
     },
     "user_tz": -540
    },
    "id": "TZTMG-AGAJnc",
    "outputId": "5b1f15dd-bb1d-46a3-ad80-6586dc10aa31",
    "scrolled": true
   },
   "outputs": [
    {
     "name": "stdout",
     "output_type": "stream",
     "text": [
      "a is \n",
      " [[1. 1. 1. 1. 1. 1. 1. 1.]\n",
      " [1. 1. 1. 1. 1. 1. 1. 1.]\n",
      " [1. 1. 1. 1. 1. 1. 1. 1.]]\n",
      "a is \n",
      " [[1. 1. 1. 1. 1. 1. 1. 1.]\n",
      " [1. 1. 1. 1. 1. 1. 1. 1.]\n",
      " [1. 1. 1. 1. 1. 1. 1. 1.]]\n",
      "b is  [1. 1. 1. 1. 1. 1. 1. 1.]\n"
     ]
    }
   ],
   "source": [
    "# サイズが3x8の1行列を生成\n",
    "a = np.ones(shape=(3, 8))\n",
    "print(\"a is \\n\", a)\n",
    "\n",
    "# \"shape=\"を省略することもできます\n",
    "a = np.ones((3, 8))  # np.ones(3, 8)ではないことに注意！\n",
    "print(\"a is \\n\", a)\n",
    "\n",
    "# サイズが8の1ベクトルを生成\n",
    "b = np.ones(8)\n",
    "print(\"b is \", b)"
   ]
  },
  {
   "cell_type": "markdown",
   "metadata": {
    "id": "XCXX2JjKAJnc"
   },
   "source": [
    "numpyの関数`np.arange()`は，連続する数値のndarrayを作る関数です．使い方は`range()`と同じですが，arrayが返ります．"
   ]
  },
  {
   "cell_type": "code",
   "execution_count": 45,
   "metadata": {
    "colab": {
     "base_uri": "https://localhost:8080/"
    },
    "executionInfo": {
     "elapsed": 2,
     "status": "ok",
     "timestamp": 1652170157347,
     "user": {
      "displayName": "玉木徹",
      "userId": "18176472173694321261"
     },
     "user_tz": -540
    },
    "id": "ZOtIHXMyAJnc",
    "outputId": "ad6c0d1a-50eb-40d3-ffee-f1e78999213e"
   },
   "outputs": [
    {
     "name": "stdout",
     "output_type": "stream",
     "text": [
      "[0 1 2 3 4 5 6 7 8 9]\n"
     ]
    }
   ],
   "source": [
    "a = np.arange(10)  # 0から9までのarray\n",
    "print(a)"
   ]
  },
  {
   "cell_type": "code",
   "execution_count": 46,
   "metadata": {
    "colab": {
     "base_uri": "https://localhost:8080/"
    },
    "executionInfo": {
     "elapsed": 1,
     "status": "ok",
     "timestamp": 1652170157701,
     "user": {
      "displayName": "玉木徹",
      "userId": "18176472173694321261"
     },
     "user_tz": -540
    },
    "id": "mNSbEUaBAJnc",
    "outputId": "d677b363-67ac-4a31-9fa2-60a74aa88a3a"
   },
   "outputs": [
    {
     "name": "stdout",
     "output_type": "stream",
     "text": [
      "[-8 -7 -6 -5 -4 -3 -2 -1  0  1  2  3  4  5  6  7]\n"
     ]
    }
   ],
   "source": [
    "a = np.arange(-8, 8)  # -8から7までのarray\n",
    "print(a)"
   ]
  },
  {
   "cell_type": "code",
   "execution_count": 47,
   "metadata": {
    "colab": {
     "base_uri": "https://localhost:8080/"
    },
    "executionInfo": {
     "elapsed": 2,
     "status": "ok",
     "timestamp": 1652170157991,
     "user": {
      "displayName": "玉木徹",
      "userId": "18176472173694321261"
     },
     "user_tz": -540
    },
    "id": "mz3qJS2gAJnc",
    "outputId": "e0abc030-8045-45bc-c573-71718789c853",
    "scrolled": true
   },
   "outputs": [
    {
     "name": "stdout",
     "output_type": "stream",
     "text": [
      "[-13  -9  -5  -1   3   7  11]\n"
     ]
    }
   ],
   "source": [
    "a = np.arange(-13, 13, 4)  # -13から12まで4つ毎のarray\n",
    "print(a)"
   ]
  },
  {
   "cell_type": "markdown",
   "metadata": {
    "id": "m0v47rZNAJnc"
   },
   "source": [
    "配列の縦横サイズ（形，shape）を取得する関数はshape（またはsize）です．\n",
    "shapeは縦と横をタプル（値の組）で返します．"
   ]
  },
  {
   "cell_type": "code",
   "execution_count": 18,
   "metadata": {
    "colab": {
     "base_uri": "https://localhost:8080/"
    },
    "executionInfo": {
     "elapsed": 4,
     "status": "ok",
     "timestamp": 1652170159161,
     "user": {
      "displayName": "玉木徹",
      "userId": "18176472173694321261"
     },
     "user_tz": -540
    },
    "id": "q-GfKA3OAJnc",
    "outputId": "df885da7-5a8b-43a2-8779-85bd394a5395"
   },
   "outputs": [
    {
     "name": "stdout",
     "output_type": "stream",
     "text": [
      "(2, 3)\n",
      "height is  2 \n",
      " width is  3\n",
      "height is  2 \n",
      " width is  3\n",
      "total number of elements is  6\n"
     ]
    }
   ],
   "source": [
    "a = np.array([[0, 1, 2], [3, 4, 5]])  # 2x3の行列\n",
    "\n",
    "print(a.shape)  # array（行列）のサイズを表示\n",
    "\n",
    "h = a.shape[0]  # 縦のサイズを左辺に代入\n",
    "w = a.shape[1]  # 横のサイズを左辺に代入\n",
    "print(\"height is \", h, \"\\n\", \"width is \", w)\n",
    "\n",
    "h, w = a.shape  # 縦横のサイズを左辺に代入．これでもOK\n",
    "print(\"height is \", h, \"\\n\", \"width is \", w)\n",
    "\n",
    "print(\"total number of elements is \", a.size)  # size = w * h"
   ]
  },
  {
   "cell_type": "code",
   "execution_count": 49,
   "metadata": {
    "colab": {
     "base_uri": "https://localhost:8080/"
    },
    "executionInfo": {
     "elapsed": 3,
     "status": "ok",
     "timestamp": 1652170159161,
     "user": {
      "displayName": "玉木徹",
      "userId": "18176472173694321261"
     },
     "user_tz": -540
    },
    "id": "w8PAGfRyAJnc",
    "outputId": "9461f5f7-2566-4937-e911-d0119c5a3476"
   },
   "outputs": [
    {
     "name": "stdout",
     "output_type": "stream",
     "text": [
      "[0 1 2 3 4 5 6 7 8 9]\n",
      "(10,)\n",
      "10\n",
      "10\n"
     ]
    }
   ],
   "source": [
    "a = np.arange(10)  # 0から9までのarray\n",
    "print(a)\n",
    "print(a.shape)  # 1次元arrayの場合，shapeは1つ目しか返ってこない\n",
    "print(a.size)  # 1次元arrayのサイズ．len(a)と同じ\n",
    "print(len(a))"
   ]
  },
  {
   "cell_type": "markdown",
   "metadata": {
    "id": "VM7bzibAAJnd"
   },
   "source": [
    "### Task\n",
    "\n",
    "- 5x8の乱数行列\n",
    "- 6x3のゼロ行列\n",
    "- 要素が全て1の長さ10の1次元ベクトル\n",
    "\n",
    "を生成して，その縦横のサイズが指定したとおりになっているかどうか，.shapeを表示して確認してください．\n",
    "\n"
   ]
  },
  {
   "cell_type": "code",
   "execution_count": 49,
   "metadata": {
    "executionInfo": {
     "elapsed": 1,
     "status": "ok",
     "timestamp": 1652170159567,
     "user": {
      "displayName": "玉木徹",
      "userId": "18176472173694321261"
     },
     "user_tz": -540
    },
    "id": "AE-4y5u8AJnd"
   },
   "outputs": [],
   "source": []
  },
  {
   "cell_type": "markdown",
   "metadata": {
    "id": "P-_Oa9ELAJnd"
   },
   "source": [
    "## arrayの型変換\n",
    "\n",
    "ndarrayの要素はすべて同じ型です．それを変換する方法があります．"
   ]
  },
  {
   "cell_type": "code",
   "execution_count": 25,
   "metadata": {
    "colab": {
     "base_uri": "https://localhost:8080/"
    },
    "executionInfo": {
     "elapsed": 251,
     "status": "ok",
     "timestamp": 1652170161241,
     "user": {
      "displayName": "玉木徹",
      "userId": "18176472173694321261"
     },
     "user_tz": -540
    },
    "id": "dbsfGs1kAJnd",
    "outputId": "97b9d903-51c3-4038-b092-6896e4a10879"
   },
   "outputs": [
    {
     "name": "stdout",
     "output_type": "stream",
     "text": [
      "[[  1 -22  11 -10]\n",
      " [ -7   6 -12  -7]\n",
      " [  2   6  -6 -13]]\n",
      "int64\n"
     ]
    }
   ],
   "source": [
    "a = np.random.randint(50, size=(3, 4)) - 25  # -25から24までの整数乱数の3x4行列\n",
    "\n",
    "print(a)\n",
    "\n",
    "print(a.dtype)  # aは符号付き64ビット整数（int64）であることを確認"
   ]
  },
  {
   "cell_type": "code",
   "execution_count": 26,
   "metadata": {
    "colab": {
     "base_uri": "https://localhost:8080/"
    },
    "executionInfo": {
     "elapsed": 4,
     "status": "ok",
     "timestamp": 1652170161655,
     "user": {
      "displayName": "玉木徹",
      "userId": "18176472173694321261"
     },
     "user_tz": -540
    },
    "id": "TXUlVzzuAJnd",
    "outputId": "356a8986-cde7-4ef3-959d-efee989ea96a"
   },
   "outputs": [
    {
     "name": "stdout",
     "output_type": "stream",
     "text": [
      "[[  1. -22.  11. -10.]\n",
      " [ -7.   6. -12.  -7.]\n",
      " [  2.   6.  -6. -13.]]\n",
      "float64\n"
     ]
    }
   ],
   "source": [
    "b = a.astype(float)  # aをfloatに変換する．\n",
    "print(b)\n",
    "print(b.dtype)  # bはfloatになる．pythonではfloatは64bit浮動小数点数"
   ]
  },
  {
   "cell_type": "code",
   "execution_count": 27,
   "metadata": {
    "colab": {
     "base_uri": "https://localhost:8080/"
    },
    "executionInfo": {
     "elapsed": 2,
     "status": "ok",
     "timestamp": 1652170162200,
     "user": {
      "displayName": "玉木徹",
      "userId": "18176472173694321261"
     },
     "user_tz": -540
    },
    "id": "o0pRSVsnAJnd",
    "outputId": "1aa04542-dd43-4f77-e539-38b082d17df9"
   },
   "outputs": [
    {
     "name": "stdout",
     "output_type": "stream",
     "text": [
      "[[  1. -22.  11. -10.]\n",
      " [ -7.   6. -12.  -7.]\n",
      " [  2.   6.  -6. -13.]]\n",
      "float64\n"
     ]
    }
   ],
   "source": [
    "b = np.float64(a)  # aをfloatに変換する別のやり方\n",
    "print(b)\n",
    "print(b.dtype)  # bはfloat64"
   ]
  },
  {
   "cell_type": "code",
   "execution_count": 28,
   "metadata": {},
   "outputs": [
    {
     "name": "stdout",
     "output_type": "stream",
     "text": [
      "[[  1. -22.  11. -10.]\n",
      " [ -7.   6. -12.  -7.]\n",
      " [  2.   6.  -6. -13.]]\n",
      "float32\n",
      "[[  1. -22.  11. -10.]\n",
      " [ -7.   6. -12.  -7.]\n",
      " [  2.   6.  -6. -13.]]\n",
      "float32\n"
     ]
    }
   ],
   "source": [
    "b = np.float32(a)  # aをfloat32に変換（32bit浮動小数点数）\n",
    "print(b)\n",
    "print(b.dtype)  # bはfloat32\n",
    "\n",
    "b = a.astype(np.float32)  # aをfloat32に変換\n",
    "print(b)\n",
    "print(b.dtype)  # bはfloat32"
   ]
  },
  {
   "cell_type": "code",
   "execution_count": 29,
   "metadata": {
    "scrolled": true
   },
   "outputs": [
    {
     "name": "stdout",
     "output_type": "stream",
     "text": [
      "[[  1. -22.  11. -10.]\n",
      " [ -7.   6. -12.  -7.]\n",
      " [  2.   6.  -6. -13.]]\n",
      "float16\n",
      "[[  1. -22.  11. -10.]\n",
      " [ -7.   6. -12.  -7.]\n",
      " [  2.   6.  -6. -13.]]\n",
      "float16\n"
     ]
    }
   ],
   "source": [
    "b = np.float16(a)  # aをfloat16に変換（16bit浮動小数点数）\n",
    "print(b)\n",
    "print(b.dtype)  # bはfloat32\n",
    "\n",
    "b = a.astype(np.float16)  # aをfloat16に変換\n",
    "print(b)\n",
    "print(b.dtype)  # bはfloat32"
   ]
  },
  {
   "cell_type": "code",
   "execution_count": 30,
   "metadata": {
    "colab": {
     "base_uri": "https://localhost:8080/"
    },
    "executionInfo": {
     "elapsed": 2,
     "status": "ok",
     "timestamp": 1652170162514,
     "user": {
      "displayName": "玉木徹",
      "userId": "18176472173694321261"
     },
     "user_tz": -540
    },
    "id": "yEWfcaOAAJnd",
    "outputId": "5830ecee-bfae-4d88-a485-9a930e57c590"
   },
   "outputs": [
    {
     "name": "stdout",
     "output_type": "stream",
     "text": [
      "[[  1 234  11 246]\n",
      " [249   6 244 249]\n",
      " [  2   6 250 243]]\n",
      "uint8\n"
     ]
    }
   ],
   "source": [
    "c = b.astype(np.uint8)  # unsigned int 8bit （uint8，C言語でのunsigned charに相当）に変換する\n",
    "print(c)\n",
    "print(c.dtype)  # cは符号なし8ビット整数"
   ]
  },
  {
   "cell_type": "code",
   "execution_count": 31,
   "metadata": {
    "colab": {
     "base_uri": "https://localhost:8080/"
    },
    "executionInfo": {
     "elapsed": 2,
     "status": "ok",
     "timestamp": 1652170163412,
     "user": {
      "displayName": "玉木徹",
      "userId": "18176472173694321261"
     },
     "user_tz": -540
    },
    "id": "Gc19xzJyAJnd",
    "outputId": "31e47640-2529-4466-81e6-8ef012166445"
   },
   "outputs": [
    {
     "name": "stdout",
     "output_type": "stream",
     "text": [
      "[[  1 -22  11 -10]\n",
      " [ -7   6 -12  -7]\n",
      " [  2   6  -6 -13]]\n",
      "int32\n"
     ]
    }
   ],
   "source": [
    "d = b.astype(np.int32)  # signed int 32bit （int32，C言語でのsigned intに相当）に変換する\n",
    "print(d)\n",
    "print(d.dtype)  # dは符号つき32ビット整数"
   ]
  },
  {
   "cell_type": "code",
   "execution_count": 32,
   "metadata": {
    "colab": {
     "base_uri": "https://localhost:8080/"
    },
    "executionInfo": {
     "elapsed": 2,
     "status": "ok",
     "timestamp": 1652170163775,
     "user": {
      "displayName": "玉木徹",
      "userId": "18176472173694321261"
     },
     "user_tz": -540
    },
    "id": "__4yjMiYAJnd",
    "outputId": "863dad15-5a96-4727-8bf7-5e02cc0a55e0"
   },
   "outputs": [
    {
     "name": "stdout",
     "output_type": "stream",
     "text": [
      "[[         1 4294967274         11 4294967286]\n",
      " [4294967289          6 4294967284 4294967289]\n",
      " [         2          6 4294967290 4294967283]]\n",
      "uint32\n"
     ]
    }
   ],
   "source": [
    "# unsigned int 32bit （uint32，C言語でのunsigned intに相当）に変換する\n",
    "e = b.astype(np.uint32)\n",
    "print(e)\n",
    "print(e.dtype)  # dは符号なし32ビット整数．負の数を変換する場合には，変換結果は正しくない"
   ]
  },
  {
   "cell_type": "code",
   "execution_count": 33,
   "metadata": {
    "colab": {
     "base_uri": "https://localhost:8080/"
    },
    "executionInfo": {
     "elapsed": 1,
     "status": "ok",
     "timestamp": 1652170164041,
     "user": {
      "displayName": "玉木徹",
      "userId": "18176472173694321261"
     },
     "user_tz": -540
    },
    "id": "JkGAsJziAJnd",
    "outputId": "f0303abe-01d8-44bb-ae7f-03bbcc5726d0"
   },
   "outputs": [
    {
     "name": "stdout",
     "output_type": "stream",
     "text": [
      "[ True False False  True] bool\n",
      "[1 0 0 1]\n",
      "[[ 0  0 -1]\n",
      " [ 1  0  8]]\n",
      "[[False False  True]\n",
      " [ True False  True]]\n"
     ]
    }
   ],
   "source": [
    "# bool値（真偽値）は，Falseが0，Trueは0以外を意味する\n",
    "\n",
    "a = np.array([True, False, False, True])  # boolのarray\n",
    "print(a, a.dtype)\n",
    "\n",
    "b = a.astype(int)  # boolを整数に変換\n",
    "print(b)\n",
    "\n",
    "c = np.array([[0, 0, -1], [1, 0, 8]])  # 整数のarray\n",
    "print(c)\n",
    "\n",
    "d = c.astype(bool)  # 整数をboolに変換\n",
    "print(d)"
   ]
  },
  {
   "cell_type": "markdown",
   "metadata": {
    "id": "jmAJXl2jAJne"
   },
   "source": [
    "### Task\n",
    "\n",
    "要素が0か1の整数である乱数行列を作成して，それをbool型の行列に変換してください．"
   ]
  },
  {
   "cell_type": "code",
   "execution_count": 56,
   "metadata": {
    "executionInfo": {
     "elapsed": 2,
     "status": "ok",
     "timestamp": 1652170164978,
     "user": {
      "displayName": "玉木徹",
      "userId": "18176472173694321261"
     },
     "user_tz": -540
    },
    "id": "eToC786UAJne"
   },
   "outputs": [],
   "source": []
  },
  {
   "cell_type": "markdown",
   "metadata": {
    "id": "kuZML5FnAJne"
   },
   "source": [
    "## 制御文\n",
    "\n",
    "Pythonの主要な制御文はifとforです．\n",
    "\n",
    "### if"
   ]
  },
  {
   "cell_type": "code",
   "execution_count": 57,
   "metadata": {
    "colab": {
     "base_uri": "https://localhost:8080/"
    },
    "executionInfo": {
     "elapsed": 2,
     "status": "ok",
     "timestamp": 1652170165907,
     "user": {
      "displayName": "玉木徹",
      "userId": "18176472173694321261"
     },
     "user_tz": -540
    },
    "id": "gVot-TB5AJne",
    "outputId": "29d58cf6-1a66-4d02-f84d-170f931aa3e3"
   },
   "outputs": [
    {
     "name": "stdout",
     "output_type": "stream",
     "text": [
      "a is larger than 5\n",
      "a is  10\n"
     ]
    }
   ],
   "source": [
    "a = 10\n",
    "\n",
    "if a > 5:\n",
    "\n",
    "    # if中はかならずインデントしてください（インデントとは，左側を空白4個分空けることです）\n",
    "    print(\"a is larger than 5\")\n",
    "    print(\"a is \", a)\n",
    "\n",
    "else:  # elseとifのインデントは同じにしてください\n",
    "\n",
    "    # elseも同様にインデントしてください\n",
    "    print(\"a is smaller than 5\")\n",
    "    print(\"a is \", a)\n",
    "\n",
    "# インデントが正しくないと，エラーになります"
   ]
  },
  {
   "cell_type": "code",
   "execution_count": null,
   "metadata": {},
   "outputs": [],
   "source": [
    "a = 8\n",
    "\n",
    "if a <= 10:\n",
    "    print(\"a is smaller than or equal to 10\")\n",
    "else:\n",
    "    print(\"a is larger than 10\")\n",
    "\n",
    "if a < 10:\n",
    "    print(\"a is smaller than 10\")\n",
    "elif a >= 10:\n",
    "    print(\"a is larger than or equal to 10\")\n",
    "elif a == 10:\n",
    "    print(\"a is equal to 10\")\n",
    "elif a != 10:\n",
    "    print(\"a is not equal to 10\")\n",
    "else:\n",
    "    print(\"a is a number\")"
   ]
  },
  {
   "cell_type": "markdown",
   "metadata": {
    "id": "S1dCAF1-AJne"
   },
   "source": [
    "### Task\n",
    "\n",
    "以下のコードのエラーを修正して，エラーがなく実行できるように修正してください．"
   ]
  },
  {
   "cell_type": "code",
   "execution_count": 58,
   "metadata": {
    "colab": {
     "base_uri": "https://localhost:8080/",
     "height": 131
    },
    "executionInfo": {
     "elapsed": 3,
     "status": "error",
     "timestamp": 1652170166965,
     "user": {
      "displayName": "玉木徹",
      "userId": "18176472173694321261"
     },
     "user_tz": -540
    },
    "id": "ziDU7UB7AJne",
    "outputId": "630c9503-ee05-412c-fddc-a13c8e5cff79"
   },
   "outputs": [
    {
     "ename": "IndentationError",
     "evalue": "ignored",
     "output_type": "error",
     "traceback": [
      "\u001b[0;36m  File \u001b[0;32m\"<ipython-input-58-a7e1d7334e5e>\"\u001b[0;36m, line \u001b[0;32m6\u001b[0m\n\u001b[0;31m    else:\u001b[0m\n\u001b[0m         ^\u001b[0m\n\u001b[0;31mIndentationError\u001b[0m\u001b[0;31m:\u001b[0m unindent does not match any outer indentation level\n"
     ]
    }
   ],
   "source": [
    "a = 10\n",
    "\n",
    "if a > 5:\n",
    "    print(\"a is larger than 5\")\n",
    "    print(\"a is \", a)\n",
    " else:\n",
    "   print(\"a is smaller than 5\")\n",
    "  print(\"a is \", a)"
   ]
  },
  {
   "cell_type": "markdown",
   "metadata": {
    "id": "tWc3viScAJne"
   },
   "source": [
    "### for\n",
    "forループのループ範囲指定には，リストかarrayを使います．"
   ]
  },
  {
   "cell_type": "code",
   "execution_count": 60,
   "metadata": {
    "colab": {
     "base_uri": "https://localhost:8080/"
    },
    "executionInfo": {
     "elapsed": 219,
     "status": "ok",
     "timestamp": 1652170216740,
     "user": {
      "displayName": "玉木徹",
      "userId": "18176472173694321261"
     },
     "user_tz": -540
    },
    "id": "YZrAmXwTAJne",
    "outputId": "2e4ed56c-9424-4ecf-ff35-072a087cb381"
   },
   "outputs": [
    {
     "name": "stdout",
     "output_type": "stream",
     "text": [
      "i is  4\n",
      "i is  5\n",
      "i is  6\n",
      "i is  7\n"
     ]
    }
   ],
   "source": [
    "for i in [4, 5, 6, 7]:  # forループの指定にはリストかarrayを使う\n",
    "\n",
    "    # for中もインデントしてください\n",
    "    print(\"i is \", i)"
   ]
  },
  {
   "cell_type": "code",
   "execution_count": 61,
   "metadata": {
    "colab": {
     "base_uri": "https://localhost:8080/"
    },
    "executionInfo": {
     "elapsed": 2,
     "status": "ok",
     "timestamp": 1652170217682,
     "user": {
      "displayName": "玉木徹",
      "userId": "18176472173694321261"
     },
     "user_tz": -540
    },
    "id": "u3zcIKOZAJne",
    "outputId": "99c82e65-15ca-45ea-c8a8-d66e210b8e94",
    "scrolled": true
   },
   "outputs": [
    {
     "name": "stdout",
     "output_type": "stream",
     "text": [
      "i is  0\n",
      "i is  1\n",
      "i is  2\n",
      "i is  3\n",
      "i is  4\n",
      "i is  5\n",
      "i is  6\n",
      "i is  7\n",
      "i is  8\n",
      "i is  9\n"
     ]
    }
   ],
   "source": [
    "for i in range(10):  # forループでの範囲指定に使う場合にはlist(range(10))とはしない\n",
    "    print(\"i is \", i)"
   ]
  },
  {
   "cell_type": "markdown",
   "metadata": {
    "id": "EMl4Yrj5AJnf"
   },
   "source": [
    "### Task\n",
    "\n",
    "以下のコードのループ範囲指定にnp.arangeを使って，上のforループと同じことを実現してください．"
   ]
  },
  {
   "cell_type": "code",
   "execution_count": null,
   "metadata": {
    "id": "mp2mGYGgAJnf"
   },
   "outputs": [],
   "source": [
    "for i in *******:\n",
    "    print(\"i is \", i)"
   ]
  },
  {
   "cell_type": "markdown",
   "metadata": {
    "id": "y0n9asRzAJnf"
   },
   "source": [
    "### Task\n",
    "\n",
    "以下のコードのエラーを修正してください．"
   ]
  },
  {
   "cell_type": "code",
   "execution_count": null,
   "metadata": {
    "id": "DwRhg8sOAJnf"
   },
   "outputs": [],
   "source": [
    "for i in np.arange(1, 5):\n",
    "\n",
    "print(\"i is \", i)"
   ]
  },
  {
   "cell_type": "markdown",
   "metadata": {
    "id": "rklRxHDCAJnf"
   },
   "source": [
    "## 論理式\n",
    "\n",
    "一般的な比較演算子(>, <, ==, <=, >=)や論理式(and, or, not)を使うことができます．"
   ]
  },
  {
   "cell_type": "code",
   "execution_count": 62,
   "metadata": {
    "colab": {
     "base_uri": "https://localhost:8080/"
    },
    "executionInfo": {
     "elapsed": 218,
     "status": "ok",
     "timestamp": 1652170222592,
     "user": {
      "displayName": "玉木徹",
      "userId": "18176472173694321261"
     },
     "user_tz": -540
    },
    "id": "XWGWO5TpAJnf",
    "outputId": "ae4b5ca6-639c-42c4-9623-9c47a7ed598a"
   },
   "outputs": [
    {
     "name": "stdout",
     "output_type": "stream",
     "text": [
      "yes, it is true.\n"
     ]
    }
   ],
   "source": [
    "if 10 > 4:\n",
    "    print(\"yes, it is true.\")\n",
    "else:\n",
    "    print(\"this never happens.\")"
   ]
  },
  {
   "cell_type": "code",
   "execution_count": 25,
   "metadata": {
    "colab": {
     "base_uri": "https://localhost:8080/"
    },
    "executionInfo": {
     "elapsed": 468,
     "status": "ok",
     "timestamp": 1652170225147,
     "user": {
      "displayName": "玉木徹",
      "userId": "18176472173694321261"
     },
     "user_tz": -540
    },
    "id": "T5Ktj-7rAJnf",
    "outputId": "3f1e7b93-cc5e-4bbb-d387-abde52044222"
   },
   "outputs": [
    {
     "name": "stdout",
     "output_type": "stream",
     "text": [
      "ok, a is 10.\n",
      "a == 10, b == 20\n"
     ]
    }
   ],
   "source": [
    "a = 10\n",
    "b = 20\n",
    "\n",
    "if a == 10:\n",
    "    print(\"ok, a is 10.\")\n",
    "\n",
    "if a == 10 and b == 10:\n",
    "    print(\"a == b == 10\")\n",
    "elif a == 10 and b == 20:\n",
    "    print(\"a == 10, b == 20\")"
   ]
  },
  {
   "cell_type": "code",
   "execution_count": 26,
   "metadata": {},
   "outputs": [
    {
     "name": "stdout",
     "output_type": "stream",
     "text": [
      "a <= 10 and b >= 10\n",
      "a < 10 or b > 12\n",
      "not a >= 10\n"
     ]
    }
   ],
   "source": [
    "a = 0\n",
    "b = 10\n",
    "\n",
    "if a <= 10 and b >= 10:\n",
    "    print(\"a <= 10 and b >= 10\")\n",
    "\n",
    "if a < 10 or b > 12:\n",
    "    print(\"a < 10 or b > 12\")\n",
    "\n",
    "if not a >= 10:\n",
    "    print(\"not a >= 10\")"
   ]
  },
  {
   "cell_type": "markdown",
   "metadata": {},
   "source": [
    "pythonでは`3 <= i < 7`のように，比較演算子を連続して使う書き方ができます．\n",
    "\n",
    "なおC言語などこれが使えない（エラーにはならないが意味が異なる）言語もあります．（`3 <= i < 7`は左から解釈されて`(3 <= i) < 7`となり，`i`の値に応じて`True < 7`または`False < 7`と解釈されます．C言語はTrueが1，Falseが0という真偽値から整数値への暗黙の型変換が行われるため，最終的に`1 < 7`または`0 < 7`という解釈されます．この結果，変数iの値が3以上7未満，という判定はされません）"
   ]
  },
  {
   "cell_type": "code",
   "execution_count": 6,
   "metadata": {},
   "outputs": [
    {
     "name": "stdout",
     "output_type": "stream",
     "text": [
      "0 : i < 3 or 7 <= i\n",
      "1 : i < 3 or 7 <= i\n",
      "2 : i < 3 or 7 <= i\n",
      "3 : 3 <= i < 7\n",
      "4 : 3 <= i < 7\n",
      "5 : 3 <= i < 7\n",
      "6 : 3 <= i < 7\n",
      "7 : i < 3 or 7 <= i\n",
      "8 : i < 3 or 7 <= i\n",
      "9 : i < 3 or 7 <= i\n"
     ]
    }
   ],
   "source": [
    "for i in range(10):\n",
    "    if 3 <= i < 7:\n",
    "        print(i, \": 3 <= i < 7\")\n",
    "    else:\n",
    "        print(i, \": i < 3 or 7 <= i\")"
   ]
  },
  {
   "cell_type": "markdown",
   "metadata": {
    "id": "31cB4PiGAJnf"
   },
   "source": [
    "### Task\n",
    "\n",
    "100以下の偶数をforループで表示してください．余りを計算する演算子は`%`です．"
   ]
  },
  {
   "cell_type": "code",
   "execution_count": 64,
   "metadata": {
    "executionInfo": {
     "elapsed": 249,
     "status": "ok",
     "timestamp": 1652170228846,
     "user": {
      "displayName": "玉木徹",
      "userId": "18176472173694321261"
     },
     "user_tz": -540
    },
    "id": "bppE5toHAJnf"
   },
   "outputs": [],
   "source": [
    "# 100以下の偶数をforループで表示してください．"
   ]
  },
  {
   "cell_type": "markdown",
   "metadata": {
    "id": "dFI0NZ6PAJnf"
   },
   "source": [
    "### Task\n",
    "\n",
    "forとifの組み合わせで，100以下の3と5の公倍数を表示してください．\n",
    "\n",
    "3の公倍数かどうかは，3で割ったあまりが0かどうかで判定します．\n",
    "「3の公倍数であり，かつ5の公倍数である」を表現するには，`and`を使います．"
   ]
  },
  {
   "cell_type": "code",
   "execution_count": 65,
   "metadata": {
    "executionInfo": {
     "elapsed": 3,
     "status": "ok",
     "timestamp": 1652170229580,
     "user": {
      "displayName": "玉木徹",
      "userId": "18176472173694321261"
     },
     "user_tz": -540
    },
    "id": "1iAbd0c6AJnf",
    "scrolled": true
   },
   "outputs": [],
   "source": [
    "# forとifの組み合わせで，3と5の公倍数を表示"
   ]
  },
  {
   "cell_type": "markdown",
   "metadata": {
    "id": "iFKeX0ZBAJng"
   },
   "source": [
    "### 改行しないprint\n",
    "\n",
    "forループの中のprint()で改行したくない場合には，オプションにend=\"\"を指定します．以下の例を見てください．"
   ]
  },
  {
   "cell_type": "code",
   "execution_count": 67,
   "metadata": {
    "colab": {
     "base_uri": "https://localhost:8080/"
    },
    "executionInfo": {
     "elapsed": 223,
     "status": "ok",
     "timestamp": 1652170237393,
     "user": {
      "displayName": "玉木徹",
      "userId": "18176472173694321261"
     },
     "user_tz": -540
    },
    "id": "YNbEvKo4AJng",
    "outputId": "5add7896-712a-496a-e6eb-ca03a43d7b4c"
   },
   "outputs": [
    {
     "name": "stdout",
     "output_type": "stream",
     "text": [
      "0 + 0 =  0\n",
      "0 + 1 =  1\n",
      "0 + 2 =  2\n",
      "----\n",
      "1 + 0 =  1\n",
      "1 + 1 =  2\n",
      "1 + 2 =  3\n",
      "----\n",
      "2 + 0 =  2\n",
      "2 + 1 =  3\n",
      "2 + 2 =  4\n",
      "----\n"
     ]
    }
   ],
   "source": [
    "# 二重ループ\n",
    "for i in np.arange(3):\n",
    "    for j in np.arange(3):\n",
    "        print(i, end=\"\")  # end指定はprintの後に表示する内容（デフォルトでは\"\\n\"）\n",
    "        print(\" +\", j, end=\"\")\n",
    "        print(\" = \", i+j)\n",
    "    print(\"----\")"
   ]
  },
  {
   "cell_type": "markdown",
   "metadata": {
    "id": "5BAYllMSAJng"
   },
   "source": [
    "### Task\n",
    "\n",
    "二重ループで九九の掛け算表を表示してください．"
   ]
  },
  {
   "cell_type": "code",
   "execution_count": 67,
   "metadata": {
    "executionInfo": {
     "elapsed": 368,
     "status": "ok",
     "timestamp": 1652170239977,
     "user": {
      "displayName": "玉木徹",
      "userId": "18176472173694321261"
     },
     "user_tz": -540
    },
    "id": "TPsDa4WrAJng"
   },
   "outputs": [],
   "source": []
  },
  {
   "cell_type": "markdown",
   "metadata": {
    "id": "TXU7fSgFAJng"
   },
   "source": [
    "## インデキシング，スライシング\n",
    "\n",
    "pythonでは，array（配列）の操作が重要です．よく覚えてください．\n",
    "\n",
    "### インデキシング\n",
    "\n",
    "インデキシングとは要素の番号を指定して値を参照することです．つまり普通の配列の要素アクセスと同じです．"
   ]
  },
  {
   "cell_type": "code",
   "execution_count": 35,
   "metadata": {
    "executionInfo": {
     "elapsed": 1,
     "status": "ok",
     "timestamp": 1652170240994,
     "user": {
      "displayName": "玉木徹",
      "userId": "18176472173694321261"
     },
     "user_tz": -540
    },
    "id": "Qp9KgQZIAJng"
   },
   "outputs": [],
   "source": [
    "# まずランダムな5x5行列aを作ります\n",
    "a = np.random.randint(50, size=(5, 5))"
   ]
  },
  {
   "cell_type": "code",
   "execution_count": 36,
   "metadata": {
    "colab": {
     "base_uri": "https://localhost:8080/"
    },
    "executionInfo": {
     "elapsed": 4,
     "status": "ok",
     "timestamp": 1652170241349,
     "user": {
      "displayName": "玉木徹",
      "userId": "18176472173694321261"
     },
     "user_tz": -540
    },
    "id": "QQTD3eoIAJng",
    "outputId": "628295dd-f52b-4fca-e2db-7f573be3d40c"
   },
   "outputs": [
    {
     "data": {
      "text/plain": [
       "array([[41, 31,  9,  7, 27],\n",
       "       [35, 38, 46, 27, 34],\n",
       "       [26, 29, 34, 30,  7],\n",
       "       [18,  5, 14,  0, 33],\n",
       "       [12, 46,  4, 32, 23]])"
      ]
     },
     "execution_count": 36,
     "metadata": {},
     "output_type": "execute_result"
    }
   ],
   "source": [
    "a  # 中身を確認"
   ]
  },
  {
   "cell_type": "code",
   "execution_count": 37,
   "metadata": {
    "colab": {
     "base_uri": "https://localhost:8080/"
    },
    "executionInfo": {
     "elapsed": 3,
     "status": "ok",
     "timestamp": 1652170241349,
     "user": {
      "displayName": "玉木徹",
      "userId": "18176472173694321261"
     },
     "user_tz": -540
    },
    "id": "JFx8nu6lAJng",
    "outputId": "dc98dbaf-477a-4db8-b3c6-17749eea7478"
   },
   "outputs": [
    {
     "name": "stdout",
     "output_type": "stream",
     "text": [
      "41 34 12\n"
     ]
    }
   ],
   "source": [
    "# 値を取り出すには，インデックスで指定する\n",
    "print(a[0, 0], a[1, 4], a[4, 0])"
   ]
  },
  {
   "cell_type": "code",
   "execution_count": 38,
   "metadata": {
    "executionInfo": {
     "elapsed": 2,
     "status": "ok",
     "timestamp": 1652170241573,
     "user": {
      "displayName": "玉木徹",
      "userId": "18176472173694321261"
     },
     "user_tz": -540
    },
    "id": "bBZOt8H4AJng"
   },
   "outputs": [],
   "source": [
    "# 値を代入するにも，インデックスで指定する\n",
    "a[0, 0] = 100\n",
    "a[1, 4] = 200\n",
    "a[4, 0] = 300"
   ]
  },
  {
   "cell_type": "code",
   "execution_count": 39,
   "metadata": {
    "colab": {
     "base_uri": "https://localhost:8080/"
    },
    "executionInfo": {
     "elapsed": 1,
     "status": "ok",
     "timestamp": 1652170241573,
     "user": {
      "displayName": "玉木徹",
      "userId": "18176472173694321261"
     },
     "user_tz": -540
    },
    "id": "VPyLaqEGAJng",
    "outputId": "3a92dd95-0fed-4cbd-b52f-7755095034df"
   },
   "outputs": [
    {
     "data": {
      "text/plain": [
       "array([[100,  31,   9,   7,  27],\n",
       "       [ 35,  38,  46,  27, 200],\n",
       "       [ 26,  29,  34,  30,   7],\n",
       "       [ 18,   5,  14,   0,  33],\n",
       "       [300,  46,   4,  32,  23]])"
      ]
     },
     "execution_count": 39,
     "metadata": {},
     "output_type": "execute_result"
    }
   ],
   "source": [
    "a  # 値が変わっていることを確認"
   ]
  },
  {
   "cell_type": "markdown",
   "metadata": {
    "id": "x30ybfxFAJnh"
   },
   "source": [
    "### Task\n",
    "\n",
    "上記の行列aのすべての対角要素を1にしてください．"
   ]
  },
  {
   "cell_type": "code",
   "execution_count": null,
   "metadata": {
    "executionInfo": {
     "elapsed": 1,
     "status": "ok",
     "timestamp": 1652170242542,
     "user": {
      "displayName": "玉木徹",
      "userId": "18176472173694321261"
     },
     "user_tz": -540
    },
    "id": "8FXuzX59AJnh"
   },
   "outputs": [],
   "source": []
  },
  {
   "cell_type": "markdown",
   "metadata": {
    "id": "Jh1brZ8-AJnh"
   },
   "source": [
    "### スライシングによる範囲指定\n",
    "\n",
    "インデックスの範囲を指定して，arrayの部分をarrayとして参照するスライシングという機能があります．\n",
    "インデックスの範囲を指定するときには`:`を使います．以下の例をみてください．"
   ]
  },
  {
   "cell_type": "code",
   "execution_count": 40,
   "metadata": {
    "colab": {
     "base_uri": "https://localhost:8080/"
    },
    "executionInfo": {
     "elapsed": 1,
     "status": "ok",
     "timestamp": 1652170243631,
     "user": {
      "displayName": "玉木徹",
      "userId": "18176472173694321261"
     },
     "user_tz": -540
    },
    "id": "ynTvo2HQAJnh",
    "outputId": "0d7cd9e9-27cc-4e8d-b24e-2b768ee252c0"
   },
   "outputs": [
    {
     "data": {
      "text/plain": [
       "array([[31,  9,  7],\n",
       "       [38, 46, 27]])"
      ]
     },
     "execution_count": 40,
     "metadata": {},
     "output_type": "execute_result"
    }
   ],
   "source": [
    "# 範囲を指定すると部分行列（部分配列）が取り出せる\n",
    "\n",
    "a[0:2, 1:4]\n",
    "\n",
    "# 最初の指定「0:2」上から0,1行目（2は含まない）を取り出す\n",
    "# 次の指定　「1:4」左から1,2,3列目（4は含まない）を取り出す"
   ]
  },
  {
   "cell_type": "code",
   "execution_count": 41,
   "metadata": {
    "colab": {
     "base_uri": "https://localhost:8080/"
    },
    "executionInfo": {
     "elapsed": 1,
     "status": "ok",
     "timestamp": 1652170243916,
     "user": {
      "displayName": "玉木徹",
      "userId": "18176472173694321261"
     },
     "user_tz": -540
    },
    "id": "z_q67P2GAJnh",
    "outputId": "8af2842e-ba2b-4146-aad1-901c31352c3c"
   },
   "outputs": [
    {
     "name": "stdout",
     "output_type": "stream",
     "text": [
      "[[100  33  33  33  27]\n",
      " [ 35  33  33  33 200]\n",
      " [ 26  29  34  30   7]\n",
      " [ 18   5  14   0  33]\n",
      " [300  46   4  32  23]]\n"
     ]
    }
   ],
   "source": [
    "# 指定した範囲にスカラーを代入できる\n",
    "a[0:2, 1:4] = 33\n",
    "\n",
    "print(a)  # 確認"
   ]
  },
  {
   "cell_type": "code",
   "execution_count": 42,
   "metadata": {
    "colab": {
     "base_uri": "https://localhost:8080/"
    },
    "executionInfo": {
     "elapsed": 2,
     "status": "ok",
     "timestamp": 1652170244140,
     "user": {
      "displayName": "玉木徹",
      "userId": "18176472173694321261"
     },
     "user_tz": -540
    },
    "id": "ipdi9UA3AJnh",
    "outputId": "27ba2bf1-2376-49f7-840f-450cf03cbe69"
   },
   "outputs": [
    {
     "data": {
      "text/plain": [
       "array([[100,   1,   1,   1,  27],\n",
       "       [ 35,   1,   1,   1, 200],\n",
       "       [ 26,  29,  34,  30,   7],\n",
       "       [ 18,   5,  14,   0,  33],\n",
       "       [300,  46,   4,  32,  23]])"
      ]
     },
     "execution_count": 42,
     "metadata": {},
     "output_type": "execute_result"
    }
   ],
   "source": [
    "# 指定した範囲に行列を代入できる\n",
    "\n",
    "a[0:2, 1:4] = np.ones(shape=(2, 3))\n",
    "\n",
    "a  # 確認"
   ]
  },
  {
   "cell_type": "code",
   "execution_count": 43,
   "metadata": {
    "colab": {
     "base_uri": "https://localhost:8080/"
    },
    "executionInfo": {
     "elapsed": 1,
     "status": "ok",
     "timestamp": 1652170244416,
     "user": {
      "displayName": "玉木徹",
      "userId": "18176472173694321261"
     },
     "user_tz": -540
    },
    "id": "PGYyVr-fAJnh",
    "outputId": "0df1ae54-75a0-4f96-cb0b-78cc00427226"
   },
   "outputs": [
    {
     "data": {
      "text/plain": [
       "array([[ 1],\n",
       "       [ 1],\n",
       "       [29],\n",
       "       [ 5]])"
      ]
     },
     "execution_count": 43,
     "metadata": {},
     "output_type": "execute_result"
    }
   ],
   "source": [
    "a[0:4, 1:2]  # 1列目だけ列として取り出す方法：その1"
   ]
  },
  {
   "cell_type": "code",
   "execution_count": 44,
   "metadata": {
    "colab": {
     "base_uri": "https://localhost:8080/"
    },
    "executionInfo": {
     "elapsed": 2,
     "status": "ok",
     "timestamp": 1652170245058,
     "user": {
      "displayName": "玉木徹",
      "userId": "18176472173694321261"
     },
     "user_tz": -540
    },
    "id": "Ah5zjqPEAJnh",
    "outputId": "c44a13db-c522-48f3-8ec6-3277f9f3899f"
   },
   "outputs": [
    {
     "data": {
      "text/plain": [
       "array([[ 1],\n",
       "       [ 1],\n",
       "       [29],\n",
       "       [ 5],\n",
       "       [46]])"
      ]
     },
     "execution_count": 44,
     "metadata": {},
     "output_type": "execute_result"
    }
   ],
   "source": [
    "a[:, 1:2]  # 1列目だけ列として取り出す方法：その2．:だけならすべての範囲を意味します"
   ]
  },
  {
   "cell_type": "code",
   "execution_count": 45,
   "metadata": {
    "colab": {
     "base_uri": "https://localhost:8080/"
    },
    "executionInfo": {
     "elapsed": 297,
     "status": "ok",
     "timestamp": 1652170249153,
     "user": {
      "displayName": "玉木徹",
      "userId": "18176472173694321261"
     },
     "user_tz": -540
    },
    "id": "i-nYuYSUAJnh",
    "outputId": "c18e1f8e-6cb0-42c3-b5e9-c952cfd8f5e4"
   },
   "outputs": [
    {
     "data": {
      "text/plain": [
       "array([ 1,  1, 29,  5, 46])"
      ]
     },
     "execution_count": 45,
     "metadata": {},
     "output_type": "execute_result"
    }
   ],
   "source": [
    "a[:, 1]  # 1列目だけ取り出す方法（これは行，つまり1次元配列になる）"
   ]
  },
  {
   "cell_type": "code",
   "execution_count": 79,
   "metadata": {
    "colab": {
     "base_uri": "https://localhost:8080/"
    },
    "executionInfo": {
     "elapsed": 1,
     "status": "ok",
     "timestamp": 1652170249522,
     "user": {
      "displayName": "玉木徹",
      "userId": "18176472173694321261"
     },
     "user_tz": -540
    },
    "id": "vm-Tk2ttAJni",
    "outputId": "85a28663-d882-4370-9889-0e87dc3b5288"
   },
   "outputs": [
    {
     "data": {
      "text/plain": [
       "array([[ 12,   1,   1,   1, 200]])"
      ]
     },
     "execution_count": 79,
     "metadata": {},
     "output_type": "execute_result"
    }
   ],
   "source": [
    "a[1:2, :]  # １行目だけ行として取り出す"
   ]
  },
  {
   "cell_type": "code",
   "execution_count": 80,
   "metadata": {
    "colab": {
     "base_uri": "https://localhost:8080/"
    },
    "executionInfo": {
     "elapsed": 1,
     "status": "ok",
     "timestamp": 1652170249851,
     "user": {
      "displayName": "玉木徹",
      "userId": "18176472173694321261"
     },
     "user_tz": -540
    },
    "id": "_0BbcIITAJni",
    "outputId": "698312d2-fdcb-4069-9a9d-d227b320b8ec"
   },
   "outputs": [
    {
     "data": {
      "text/plain": [
       "array([ 12,   1,   1,   1, 200])"
      ]
     },
     "execution_count": 80,
     "metadata": {},
     "output_type": "execute_result"
    }
   ],
   "source": [
    "a[1, :]  # １行目だけ１次元配列として取り出す"
   ]
  },
  {
   "cell_type": "markdown",
   "metadata": {
    "id": "JcrWSbNuAJni"
   },
   "source": [
    "### Task\n",
    "\n",
    "aの右下2x2の部分を0にしてください．"
   ]
  },
  {
   "cell_type": "code",
   "execution_count": null,
   "metadata": {
    "id": "K14Xiw9NAJni"
   },
   "outputs": [],
   "source": []
  },
  {
   "cell_type": "markdown",
   "metadata": {
    "id": "oQHkEEbGAJni"
   },
   "source": [
    "### Task\n",
    "\n",
    "aの一番下の行を0にしてください．"
   ]
  },
  {
   "cell_type": "code",
   "execution_count": null,
   "metadata": {
    "id": "RJ9P9hkHAJni"
   },
   "outputs": [],
   "source": []
  },
  {
   "cell_type": "markdown",
   "metadata": {
    "id": "Tn8e704_AJni"
   },
   "source": [
    "### Task\n",
    "\n",
    "aの一番左側の列を1にしてください．"
   ]
  },
  {
   "cell_type": "code",
   "execution_count": null,
   "metadata": {
    "id": "f4xvK37GAJni"
   },
   "outputs": [],
   "source": []
  },
  {
   "cell_type": "markdown",
   "metadata": {
    "id": "q4Tw6G5-AJni"
   },
   "source": [
    "### Task\n",
    "\n",
    "8x12の乱数行列を生成し，左側の8x8部分行列を取り出してください．"
   ]
  },
  {
   "cell_type": "code",
   "execution_count": null,
   "metadata": {
    "id": "5JqdL-H5AJni"
   },
   "outputs": [],
   "source": []
  },
  {
   "cell_type": "markdown",
   "metadata": {
    "id": "FuxAkhThAJni"
   },
   "source": [
    "## arrayの要素毎の処理\n",
    "\n",
    "この先に使う処理方法をいくつか紹介する．"
   ]
  },
  {
   "cell_type": "code",
   "execution_count": 81,
   "metadata": {
    "colab": {
     "base_uri": "https://localhost:8080/"
    },
    "executionInfo": {
     "elapsed": 235,
     "status": "ok",
     "timestamp": 1652170257889,
     "user": {
      "displayName": "玉木徹",
      "userId": "18176472173694321261"
     },
     "user_tz": -540
    },
    "id": "yZeCaLsZAJnj",
    "outputId": "cbcab795-67c5-47f6-f414-6edfcaf25cfb"
   },
   "outputs": [
    {
     "name": "stdout",
     "output_type": "stream",
     "text": [
      "[[0.02588763 0.09420372 0.40684545 0.21277441 0.33498088]\n",
      " [0.65603081 0.97477828 0.32583387 0.54155292 0.00993695]\n",
      " [0.34215481 0.1058948  0.80600651 0.71386584 0.59992539]\n",
      " [0.56358663 0.41984403 0.42782346 0.04018598 0.89006028]\n",
      " [0.80788752 0.87102195 0.08011257 0.84068154 0.26831825]]\n"
     ]
    }
   ],
   "source": [
    "a = np.random.random(size=(5, 5))  # 処理対象の行列aを生成\n",
    "print(a)"
   ]
  },
  {
   "cell_type": "markdown",
   "metadata": {
    "id": "GjdRV3VUAJnj"
   },
   "source": [
    "各要素へのアクセスは，行（高さ方向）の変数yと，列（横方向）の変数xの2重ループで行う．"
   ]
  },
  {
   "cell_type": "code",
   "execution_count": 82,
   "metadata": {
    "colab": {
     "base_uri": "https://localhost:8080/"
    },
    "executionInfo": {
     "elapsed": 234,
     "status": "ok",
     "timestamp": 1652170261422,
     "user": {
      "displayName": "玉木徹",
      "userId": "18176472173694321261"
     },
     "user_tz": -540
    },
    "id": "manP2BPeAJnj",
    "outputId": "08d064b2-712b-4e92-bbf0-df98d63b557b"
   },
   "outputs": [
    {
     "name": "stdout",
     "output_type": "stream",
     "text": [
      "[[1.02588763 1.09420372 1.40684545 1.21277441 1.33498088]\n",
      " [1.65603081 1.97477828 1.32583387 1.54155292 1.00993695]\n",
      " [1.34215481 1.1058948  1.80600651 1.71386584 1.59992539]\n",
      " [1.56358663 1.41984403 1.42782346 1.04018598 1.89006028]\n",
      " [1.80788752 1.87102195 1.08011257 1.84068154 1.26831825]]\n"
     ]
    }
   ],
   "source": [
    "h, w = a.shape  # 高さhと幅wを取得\n",
    "\n",
    "for y in range(h):\n",
    "    for x in range(w):\n",
    "        a[y, x] += 1  # 各要素に1を足す\n",
    "\n",
    "print(a)"
   ]
  },
  {
   "cell_type": "code",
   "execution_count": 83,
   "metadata": {
    "colab": {
     "base_uri": "https://localhost:8080/"
    },
    "executionInfo": {
     "elapsed": 2,
     "status": "ok",
     "timestamp": 1652170267083,
     "user": {
      "displayName": "玉木徹",
      "userId": "18176472173694321261"
     },
     "user_tz": -540
    },
    "id": "3bWE091qAJnj",
    "outputId": "c9bfd35b-c741-42bc-86b7-2261c3396a84"
   },
   "outputs": [
    {
     "name": "stdout",
     "output_type": "stream",
     "text": [
      "[[0.         0.         0.         0.         0.        ]\n",
      " [1.65603081 1.97477828 0.         1.54155292 0.        ]\n",
      " [0.         0.         1.80600651 1.71386584 1.59992539]\n",
      " [1.56358663 0.         0.         0.         1.89006028]\n",
      " [1.80788752 1.87102195 0.         1.84068154 0.        ]]\n"
     ]
    }
   ],
   "source": [
    "b = np.zeros(a.shape)\n",
    "\n",
    "for y in range(h):\n",
    "    for x in range(w):\n",
    "        if a[y, x] >= 1.5:\n",
    "            b[y, x] = a[y, x]  # 1.5以上の要素をコピーする\n",
    "\n",
    "print(b)"
   ]
  },
  {
   "cell_type": "markdown",
   "metadata": {
    "id": "xWFhGjnVAJnj"
   },
   "source": [
    "各要素で独立の処理は，pythonでは2重ループを使わず，行列に対する演算を使って次のように1行で書くこともできる（そしてかなり高速）"
   ]
  },
  {
   "cell_type": "code",
   "execution_count": 84,
   "metadata": {
    "colab": {
     "base_uri": "https://localhost:8080/"
    },
    "executionInfo": {
     "elapsed": 230,
     "status": "ok",
     "timestamp": 1652170271869,
     "user": {
      "displayName": "玉木徹",
      "userId": "18176472173694321261"
     },
     "user_tz": -540
    },
    "id": "fiInakqAAJnj",
    "outputId": "07ec2e2f-d733-4b0b-f7d8-8a566c8c5004"
   },
   "outputs": [
    {
     "name": "stdout",
     "output_type": "stream",
     "text": [
      "[[0.07365848 0.74975928 0.70997639 0.80473214 0.65758425]\n",
      " [0.06848193 0.8244799  0.91109924 0.86862298 0.60770681]\n",
      " [0.90846675 0.0449284  0.87676515 0.35135665 0.8815526 ]\n",
      " [0.60470956 0.34213761 0.3808195  0.21168503 0.08628658]\n",
      " [0.9141797  0.98881088 0.55495424 0.22669892 0.97945226]]\n",
      "[[1.07365848 1.74975928 1.70997639 1.80473214 1.65758425]\n",
      " [1.06848193 1.8244799  1.91109924 1.86862298 1.60770681]\n",
      " [1.90846675 1.0449284  1.87676515 1.35135665 1.8815526 ]\n",
      " [1.60470956 1.34213761 1.3808195  1.21168503 1.08628658]\n",
      " [1.9141797  1.98881088 1.55495424 1.22669892 1.97945226]]\n",
      "[[10.73658476 17.49759278 17.09976387 18.04732143 16.57584247]\n",
      " [10.68481934 18.244799   19.11099243 18.68622984 16.0770681 ]\n",
      " [19.0846675  10.44928398 18.76765154 13.51356647 18.81552595]\n",
      " [16.04709559 13.42137611 13.80819496 12.11685033 10.86286584]\n",
      " [19.141797   19.88810884 15.54954241 12.26698921 19.79452263]]\n",
      "[[  1.07365848   1.74975928   1.70997639   1.80473214   1.65758425]\n",
      " [106.84819344 182.44799004 191.10992433 186.86229837 160.77068098]\n",
      " [  1.90846675   1.0449284    1.87676515   1.35135665   1.8815526 ]\n",
      " [  1.60470956   1.34213761   1.3808195    1.21168503   1.08628658]\n",
      " [  1.9141797    1.98881088   1.55495424   1.22669892   1.97945226]]\n"
     ]
    }
   ],
   "source": [
    "a = np.random.random(size=(5, 5))\n",
    "print(a)\n",
    "\n",
    "a += 1  # 各要素に1を足す\n",
    "print(a)\n",
    "\n",
    "b = a * 10  # 各要素を10倍する\n",
    "print(b)\n",
    "\n",
    "a[1, :] *= 100  # 行単位での演算も可能\n",
    "print(a)"
   ]
  },
  {
   "cell_type": "markdown",
   "metadata": {
    "id": "VKSRC4h_AJnj"
   },
   "source": [
    "### Task\n",
    "\n",
    "8x4の乱数行列aを生成してください．\n",
    "\n",
    "そして，a全体に1を足してください．\n",
    "この処理を，2重ループを使う方法と，行列に対する演算をつかって1行でかく方法の2通りを書いてください．\n"
   ]
  },
  {
   "cell_type": "code",
   "execution_count": 84,
   "metadata": {
    "executionInfo": {
     "elapsed": 242,
     "status": "ok",
     "timestamp": 1652170276069,
     "user": {
      "displayName": "玉木徹",
      "userId": "18176472173694321261"
     },
     "user_tz": -540
    },
    "id": "I2LW_bAoAJnj"
   },
   "outputs": [],
   "source": []
  },
  {
   "cell_type": "markdown",
   "metadata": {
    "id": "GaN3sCPvAJnj"
   },
   "source": [
    "### 行列に対する等号不等号\n",
    "\n",
    "arrayに対して等号・不等号も可能である（要素ごとに処理）．\n",
    "\n",
    "これをつかって以下のtaskを行う．"
   ]
  },
  {
   "cell_type": "code",
   "execution_count": 85,
   "metadata": {
    "colab": {
     "base_uri": "https://localhost:8080/"
    },
    "executionInfo": {
     "elapsed": 1,
     "status": "ok",
     "timestamp": 1652170276946,
     "user": {
      "displayName": "玉木徹",
      "userId": "18176472173694321261"
     },
     "user_tz": -540
    },
    "id": "Y7gtsQL5AJnj",
    "outputId": "01477bb4-d1e7-42b5-e122-a63104577fe0"
   },
   "outputs": [
    {
     "name": "stdout",
     "output_type": "stream",
     "text": [
      "[[6 9 5 8]\n",
      " [7 5 4 6]\n",
      " [5 7 2 9]]\n",
      "[[False False False False]\n",
      " [False False False False]\n",
      " [False False False False]]\n",
      "[[0.84107651 0.65085981 0.54392169 0.57666437 0.4197797 ]\n",
      " [0.21671811 0.19484587 0.65287058 0.07991988 0.66768289]\n",
      " [0.39757335 0.16181144 0.17937395 0.99466656 0.1099148 ]\n",
      " [0.87201739 0.45305668 0.32359882 0.25145071 0.29743469]\n",
      " [0.81809582 0.0996451  0.82463421 0.99475686 0.39742654]]\n",
      "[[False False False False False]\n",
      " [False False False False False]\n",
      " [False False False False False]\n",
      " [False False False False False]\n",
      " [False False False False False]]\n"
     ]
    }
   ],
   "source": [
    "a = np.random.randint(10, size=(3, 4))\n",
    "print(a)\n",
    "print(a == 1)\n",
    "\n",
    "a = np.random.random(size=(5, 5))\n",
    "print(a)\n",
    "print(a > 1.5)"
   ]
  },
  {
   "cell_type": "markdown",
   "metadata": {
    "id": "25BG79qVAJnk"
   },
   "source": [
    "### Task\n",
    "\n",
    "8x4の乱数行列aを生成してください．\n",
    "そして，aの要素が0.5以上のものだけをゼロ行列bにコピーしてください．\n",
    "これは上記の2重ループで行った処理と同じですが，2重ループを使わずに行ってください．\n",
    "\n",
    "ヒント：\n",
    "\n",
    "- 0.5以上かどうかのbool値行列を，別の変数に保存します\n",
    "- bool値行列を，01の整数行列に変換します\n",
    "- 元の行列aと整数行列の要素ごとの積を計算します\n",
    "\n",
    "pythonではループ処理は非常に遅いです．できるだけループを使わない方法を考えましょう（ループを使わないほうが高速になります）．\n",
    "\n",
    "\n"
   ]
  },
  {
   "cell_type": "code",
   "execution_count": 85,
   "metadata": {
    "executionInfo": {
     "elapsed": 239,
     "status": "ok",
     "timestamp": 1652170281461,
     "user": {
      "displayName": "玉木徹",
      "userId": "18176472173694321261"
     },
     "user_tz": -540
    },
    "id": "q7Ws3PW1AJnk"
   },
   "outputs": [],
   "source": []
  },
  {
   "cell_type": "code",
   "execution_count": 85,
   "metadata": {
    "executionInfo": {
     "elapsed": 2,
     "status": "ok",
     "timestamp": 1652170281824,
     "user": {
      "displayName": "玉木徹",
      "userId": "18176472173694321261"
     },
     "user_tz": -540
    },
    "id": "2uIno8EfAJnk"
   },
   "outputs": [],
   "source": []
  },
  {
   "cell_type": "code",
   "execution_count": 85,
   "metadata": {
    "executionInfo": {
     "elapsed": 1,
     "status": "ok",
     "timestamp": 1652170281824,
     "user": {
      "displayName": "玉木徹",
      "userId": "18176472173694321261"
     },
     "user_tz": -540
    },
    "id": "1nugSudVAJnk"
   },
   "outputs": [],
   "source": []
  },
  {
   "cell_type": "markdown",
   "metadata": {
    "id": "mujzSKWqAJnk"
   },
   "source": [
    "## 便利な関数\n",
    "\n",
    "リストやarrayに対する便利な関数を紹介します．"
   ]
  },
  {
   "cell_type": "code",
   "execution_count": 7,
   "metadata": {
    "colab": {
     "base_uri": "https://localhost:8080/"
    },
    "executionInfo": {
     "elapsed": 2,
     "status": "ok",
     "timestamp": 1652170282526,
     "user": {
      "displayName": "玉木徹",
      "userId": "18176472173694321261"
     },
     "user_tz": -540
    },
    "id": "WqyIXRINAJnk",
    "outputId": "28753354-6fca-492f-9d66-433dc396e9c4"
   },
   "outputs": [
    {
     "name": "stdout",
     "output_type": "stream",
     "text": [
      "[6, 7, 2, 3, 0, 0, 3, 8, 3, 4]\n",
      "max is  8\n",
      "min is  0\n",
      "sum is  36\n"
     ]
    }
   ],
   "source": [
    "a = [6, 7, 2, 3, 0, 0, 3, 8, 3, 4]  # リスト\n",
    "print(a)\n",
    "\n",
    "print(\"max is \", max(a))  # 最大値\n",
    "print(\"min is \", min(a))  # 最小値\n",
    "print(\"sum is \", sum(a))  # 合計"
   ]
  },
  {
   "cell_type": "code",
   "execution_count": 87,
   "metadata": {
    "colab": {
     "base_uri": "https://localhost:8080/"
    },
    "executionInfo": {
     "elapsed": 2,
     "status": "ok",
     "timestamp": 1652170282973,
     "user": {
      "displayName": "玉木徹",
      "userId": "18176472173694321261"
     },
     "user_tz": -540
    },
    "id": "lycMJdiKAJnk",
    "outputId": "a09279bf-032e-4db6-ff1e-c184729d5ae2"
   },
   "outputs": [
    {
     "name": "stdout",
     "output_type": "stream",
     "text": [
      "[[6 5 5]\n",
      " [5 7 5]\n",
      " [8 6 3]]\n",
      "mean is  5.555555555555555\n",
      "standard deviation is  1.3425606637327303\n",
      "variance is  1.8024691358024691\n",
      "max is  8\n",
      "min is  3\n",
      "sum is  50\n",
      "median is  5.0\n"
     ]
    }
   ],
   "source": [
    "a = np.random.randint(10, size=(3, 3))  # 2D array\n",
    "print(a)\n",
    "\n",
    "print(\"mean is \", a.mean())  # 平均\n",
    "print(\"standard deviation is \", a.std())  # 標準偏差\n",
    "print(\"variance is \", a.var())  # 分散\n",
    "\n",
    "print(\"max is \", a.max())\n",
    "print(\"min is \", a.min())\n",
    "print(\"sum is \", a.sum())\n",
    "print(\"median is \", np.median(a))  # メディアン，中央値"
   ]
  },
  {
   "cell_type": "code",
   "execution_count": 46,
   "metadata": {
    "colab": {
     "base_uri": "https://localhost:8080/"
    },
    "executionInfo": {
     "elapsed": 2,
     "status": "ok",
     "timestamp": 1652170283332,
     "user": {
      "displayName": "玉木徹",
      "userId": "18176472173694321261"
     },
     "user_tz": -540
    },
    "id": "HUDMNTyRAJnk",
    "outputId": "8d34466c-c347-4862-e90f-9e687e9c3ecb"
   },
   "outputs": [
    {
     "name": "stdout",
     "output_type": "stream",
     "text": [
      "this is a 2D array.\n",
      "[[2 4 7]\n",
      " [6 3 6]\n",
      " [5 3 6]]\n",
      "now it is a 1D array.\n",
      "[2 4 7 6 3 6 5 3 6]\n",
      "OK, let's make it to 2D again...\n",
      "[[2 4 7]\n",
      " [6 3 6]\n",
      " [5 3 6]]\n",
      "and transpose it.\n",
      "[[2 6 5]\n",
      " [4 3 3]\n",
      " [7 6 6]]\n",
      "[[2 6 5]\n",
      " [4 3 3]\n",
      " [7 6 6]]\n"
     ]
    }
   ],
   "source": [
    "a = np.random.randint(10, size=(3, 3))  # 2D array\n",
    "print(\"this is a 2D array.\")\n",
    "print(a)\n",
    "\n",
    "b = a.flatten()  # 2Dを1Dに変換する（flatten = フラットにする）\n",
    "print(\"now it is a 1D array.\")\n",
    "print(b)\n",
    "\n",
    "c = b.reshape(3, 3)  # 1Dを2Dに変形する\n",
    "print(\"OK, let's make it to 2D again...\")\n",
    "print(c)\n",
    "\n",
    "d = c.T  # 行列の転置\n",
    "print(\"and transpose it.\")\n",
    "print(d)\n",
    "\n",
    "d = c.transpose()  # 行列の転置はこれでもOK\n",
    "print(d)"
   ]
  },
  {
   "cell_type": "markdown",
   "metadata": {
    "id": "Kp-bOirsAJnk"
   },
   "source": [
    "### Task\n",
    "\n",
    "3x4の乱数行列を生成し，最大・最小・中央値・平均・標準偏差を求めてください．\n",
    "\n",
    "次にそれをflatten()で1次元のarrayに変換したあと，今度はreshape()で6x2の行列に変形してください．\n",
    "\n",
    "その6x2行列の最大値・最小値・中央値・平均・標準偏差を求めて，同じ値になることを確認してください."
   ]
  },
  {
   "cell_type": "code",
   "execution_count": 9,
   "metadata": {
    "executionInfo": {
     "elapsed": 222,
     "status": "ok",
     "timestamp": 1652170289409,
     "user": {
      "displayName": "玉木徹",
      "userId": "18176472173694321261"
     },
     "user_tz": -540
    },
    "id": "LYqGPj5ZAJnk"
   },
   "outputs": [],
   "source": []
  },
  {
   "cell_type": "code",
   "execution_count": null,
   "metadata": {
    "id": "7iYFpQe-AJnl"
   },
   "outputs": [],
   "source": []
  },
  {
   "cell_type": "code",
   "execution_count": null,
   "metadata": {
    "id": "HnggZUKVAJnl"
   },
   "outputs": [],
   "source": []
  }
 ],
 "metadata": {
  "anaconda-cloud": {},
  "colab": {
   "name": "IP1-1.ipynb",
   "provenance": []
  },
  "interpreter": {
   "hash": "910835c6add387b0e7fad0cb68c4fd0097eddf702f241864f5cf24a7fc2117af"
  },
  "kernelspec": {
   "display_name": "Python 3",
   "language": "python",
   "name": "python3"
  },
  "language_info": {
   "codemirror_mode": {
    "name": "ipython",
    "version": 3
   },
   "file_extension": ".py",
   "mimetype": "text/x-python",
   "name": "python",
   "nbconvert_exporter": "python",
   "pygments_lexer": "ipython3",
   "version": "3.8.13"
  },
  "toc": {
   "base_numbering": 1,
   "nav_menu": {
    "height": "512px",
    "width": "252px"
   },
   "number_sections": true,
   "sideBar": true,
   "skip_h1_title": false,
   "title_cell": "Table of Contents",
   "title_sidebar": "Contents",
   "toc_cell": true,
   "toc_position": {
    "height": "1224px",
    "left": "0px",
    "right": "985px",
    "top": "110px",
    "width": "295px"
   },
   "toc_section_display": "block",
   "toc_window_display": false
  }
 },
 "nbformat": 4,
 "nbformat_minor": 1
}
